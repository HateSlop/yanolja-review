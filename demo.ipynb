{
 "cells": [
  {
   "cell_type": "code",
   "execution_count": 5,
   "metadata": {},
   "outputs": [],
   "source": [
    "import datetime\n",
    "import json\n",
    "import os\n",
    "import pickle\n",
    "from dateutil import parser\n",
    "\n",
    "import gradio as gr\n",
    "from openai import OpenAI\n",
    "from dotenv import load_dotenv\n",
    "\n",
    "load_dotenv()\n",
    "client = OpenAI(api_key=os.getenv('OPENAI_API_KEY'))"
   ]
  },
  {
   "cell_type": "code",
   "execution_count": 12,
   "metadata": {},
   "outputs": [],
   "source": [
    "# 리뷰 전처리 함수\n",
    "def preprocess_reviews(path='yanolja-review\\\\res\\\\review_list_리치몬드 호텔 텐진 니시-도리.json'):\n",
    "    with open(path, 'r', encoding='utf-8') as f:\n",
    "        reviews = json.load(f)\n",
    "    return reviews"
   ]
  },
  {
   "cell_type": "code",
   "execution_count": 7,
   "metadata": {},
   "outputs": [],
   "source": [
    "# 리뷰 요약 함수\n",
    "def summarize(reviews, prompt, temperature=0.0, model='gpt-3.5-turbo-0125', max_reviews=5):\n",
    "    limited_reviews = reviews[:max_reviews]  # 첫 5개의 리뷰만 선택\n",
    "    combined_reviews = \"\\n\\n\".join([f\"리뷰: {review['review']} (별점: {review['stars']}/5)\" for review in limited_reviews])\n",
    "    prompt = prompt + '\\n\\n' + combined_reviews\n",
    "\n",
    "    # OpenAI API를 사용해 요약 요청\n",
    "    completion = client.chat.completions.create(\n",
    "        model=model,\n",
    "        messages=[{'role': 'user', 'content': prompt}],\n",
    "        temperature=temperature\n",
    "    )\n",
    "    \n",
    "    # 결과 반환\n",
    "    return completion.choices[0].message.content"
   ]
  },
  {
   "cell_type": "code",
   "execution_count": 11,
   "metadata": {},
   "outputs": [],
   "source": [
    "# Gradio에서 실행되는 함수\n",
    "def fn():\n",
    "    # 리뷰 파일 경로\n",
    "    path = 'yanolja-review\\\\res\\\\review_list_리치몬드 호텔 텐진 니시-도리.json'\n",
    "\n",
    "    # 리뷰 전처리\n",
    "    reviews = preprocess_reviews(path)\n",
    "\n",
    "    # 기본 프롬프트\n",
    "    PROMPT_BASELINE = \"호텔 리뷰를 요약해 주세요.\"\n",
    "\n",
    "    # 높은 평점과 낮은 평점으로 나누어 요약\n",
    "    high_reviews = [r for r in reviews if r['stars'] >= 4]  # 별점 4 이상\n",
    "    low_reviews = [r for r in reviews if r['stars'] <= 2]  # 별점 2 이하\n",
    "\n",
    "    # 요약 수행\n",
    "    high_summary = summarize(high_reviews, PROMPT_BASELINE) if high_reviews else \"고평점 리뷰가 없습니다.\"\n",
    "    low_summary = summarize(low_reviews, PROMPT_BASELINE) if low_reviews else \"저평점 리뷰가 없습니다.\"\n",
    "\n",
    "    return high_summary, low_summary"
   ]
  },
  {
   "cell_type": "code",
   "execution_count": 9,
   "metadata": {},
   "outputs": [],
   "source": [
    "# Gradio 인터페이스\n",
    "def run_demo():\n",
    "    demo = gr.Interface(\n",
    "        fn=fn,\n",
    "        inputs=[], \n",
    "        outputs=[gr.Textbox(label='높은 평점 요약'), gr.Textbox(label='낮은 평점 요약')]\n",
    "    )\n",
    "    demo.launch(share=True)"
   ]
  },
  {
   "cell_type": "code",
   "execution_count": 13,
   "metadata": {},
   "outputs": [
    {
     "name": "stdout",
     "output_type": "stream",
     "text": [
      "Running on local URL:  http://127.0.0.1:7861\n",
      "IMPORTANT: You are using gradio version 4.32.0, however version 4.44.1 is available, please upgrade.\n",
      "--------\n",
      "Running on public URL: https://8d55d003eb701edf63.gradio.live\n",
      "\n",
      "This share link expires in 72 hours. For free permanent hosting and GPU upgrades, run `gradio deploy` from Terminal to deploy to Spaces (https://huggingface.co/spaces)\n"
     ]
    },
    {
     "data": {
      "text/html": [
       "<div><iframe src=\"https://8d55d003eb701edf63.gradio.live\" width=\"100%\" height=\"500\" allow=\"autoplay; camera; microphone; clipboard-read; clipboard-write;\" frameborder=\"0\" allowfullscreen></iframe></div>"
      ],
      "text/plain": [
       "<IPython.core.display.HTML object>"
      ]
     },
     "metadata": {},
     "output_type": "display_data"
    }
   ],
   "source": [
    "if __name__ == '__main__':\n",
    "    run_demo()"
   ]
  },
  {
   "cell_type": "code",
   "execution_count": 14,
   "metadata": {},
   "outputs": [],
   "source": [
    "# 1-shot 예시 프롬프트 작성 및 실행\n",
    "reviews_1shot = preprocess_reviews(path=\"yanolja-review\\\\res\\\\review_list_리치몬드 호텔 텐진 니시-도리.json\")\n",
    "prompt_1shot = f\"\"\"당신은 요약 전문가입니다. 사용자 숙소 리뷰들이 주어졌을 때 요약하는 것이 당신의 목표입니다.\n",
    "\n",
    "요약 결과는 다음 조건들을 충족해야 합니다:\n",
    "1. 모든 문장은 항상 존댓말로 끝나야 합니다.\n",
    "2. 숙소에 대해 소개하는 톤앤매너로 작성해주세요.\n",
    "  2-1. 좋은 예시\n",
    "    a) 전반적으로 좋은 숙소였고 방음도 괜찮았다는 평입니다.\n",
    "    b) 재방문 예정이라는 평들이 존재합니다.\n",
    "  2-2. 나쁜 예시\n",
    "    a) 좋은 숙소였고 방음도 괜찮았습니다.\n",
    "    b) 재방문 예정입니다.\n",
    "3. 요약 결과는 최소 2문장, 최대 5문장 사이로 작성해주세요.\n",
    "\n",
    "아래 숙소 리뷰들에 대해 요약해주세요:\"\"\"\n",
    "\n",
    "summary_1shot = summarize(reviews_1shot, prompt_1shot, temperature=0.0, model='gpt-4o-2024-05-13')\n",
    "\n",
    "# 2-shot 프롬프트 작성\n",
    "prompt_2shot = f\"\"\"당신은 요약 전문가입니다. 사용자 숙소 리뷰들이 주어졌을 때 요약하는 것이 당신의 목표입니다.\n",
    "\n",
    "요약 결과는 다음 조건들을 충족해야 합니다:\n",
    "1. 모든 문장은 항상 존댓말로 끝나야 합니다.\n",
    "2. 숙소에 대해 소개하는 톤앤매너로 작성해주세요.\n",
    "  2-1. 좋은 예시\n",
    "    a) 전반적으로 좋은 숙소였고 방음도 괜찮았다는 평입니다.\n",
    "    b) 재방문 예정이라는 평들이 존재합니다.\n",
    "  2-2. 나쁜 예시\n",
    "    a) 좋은 숙소였고 방음도 괜찮았습니다.\n",
    "    b) 재방문 예정입니다.\n",
    "3. 요약 결과는 최소 2문장, 최대 5문장 사이로 작성해주세요.\n",
    "\n",
    "다음은 리뷰들과 요약 예시입니다.\n",
    "예시 리뷰들:\n",
    "{reviews_1shot[:5]}  # 리뷰의 개수를 줄였습니다.\n",
    "예시 요약 결과:\n",
    "{summary_1shot}\n",
    "    \n",
    "아래 숙소 리뷰들에 대해 요약해주세요:\"\"\"\n",
    "\n",
    "reviews = preprocess_reviews(path=\"yanolja-review\\\\res\\\\review_list_리치몬드 호텔 텐진 니시-도리.json\")\n",
    "summary_2shot = summarize(reviews, prompt_2shot, temperature=1.0, model='gpt-4o-2024-05-13')"
   ]
  },
  {
   "cell_type": "code",
   "execution_count": 15,
   "metadata": {},
   "outputs": [],
   "source": [
    "# Gradio 인터페이스 구성\n",
    "def display_summaries():\n",
    "    return summary_1shot, summary_2shot"
   ]
  },
  {
   "cell_type": "code",
   "execution_count": 16,
   "metadata": {},
   "outputs": [
    {
     "name": "stdout",
     "output_type": "stream",
     "text": [
      "Running on local URL:  http://127.0.0.1:7862\n",
      "IMPORTANT: You are using gradio version 4.32.0, however version 4.44.1 is available, please upgrade.\n",
      "--------\n",
      "Running on public URL: https://22ec8e1ffd1d355d80.gradio.live\n",
      "\n",
      "This share link expires in 72 hours. For free permanent hosting and GPU upgrades, run `gradio deploy` from Terminal to deploy to Spaces (https://huggingface.co/spaces)\n"
     ]
    },
    {
     "data": {
      "text/html": [
       "<div><iframe src=\"https://22ec8e1ffd1d355d80.gradio.live\" width=\"100%\" height=\"500\" allow=\"autoplay; camera; microphone; clipboard-read; clipboard-write;\" frameborder=\"0\" allowfullscreen></iframe></div>"
      ],
      "text/plain": [
       "<IPython.core.display.HTML object>"
      ]
     },
     "metadata": {},
     "output_type": "display_data"
    }
   ],
   "source": [
    "# Gradio 인터페이스 설정\n",
    "demo = gr.Interface(\n",
    "    fn=display_summaries,\n",
    "    inputs=[],\n",
    "    outputs=[gr.Textbox(label='1-shot 요약 결과'), gr.Textbox(label='2-shot 요약 결과')]\n",
    ")\n",
    "\n",
    "# Gradio 실행\n",
    "if __name__ == '__main__':\n",
    "    demo.launch(share=True)"
   ]
  },
  {
   "cell_type": "code",
   "execution_count": null,
   "metadata": {},
   "outputs": [],
   "source": []
  }
 ],
 "metadata": {
  "kernelspec": {
   "display_name": "tf210",
   "language": "python",
   "name": "tf210"
  },
  "language_info": {
   "codemirror_mode": {
    "name": "ipython",
    "version": 3
   },
   "file_extension": ".py",
   "mimetype": "text/x-python",
   "name": "python",
   "nbconvert_exporter": "python",
   "pygments_lexer": "ipython3",
   "version": "3.10.14"
  }
 },
 "nbformat": 4,
 "nbformat_minor": 2
}
