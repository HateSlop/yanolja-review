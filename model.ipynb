{
 "cells": [
  {
   "cell_type": "code",
   "execution_count": 1,
   "metadata": {},
   "outputs": [
    {
     "data": {
      "text/plain": [
       "[{'review': '공덕역 1번 출구에서 도보 1~2분 정도 거리에 위치해서 접근성이 좋아요. 체크인 시 응대해 준 직원분은 다소 사무적이고 대단히 친절하지는 않았지만 신속한 처리 덕분에 빠르게 객실로 올라올 수 있었어요. 그날그날 객실 상황에 따라 샤워부스/욕조형 객실을 선택할 수 있는것 같고, 고층을 배정받아 멀리 한강과 63스퀘어 빌딩도 볼 수 있었네요. 객실엔 딱 필요한 것만 잘 갖추어져 있어서 비즈니스 호텔로서 기능은 충분하고, 1층에 세븐일레븐 편의점이 있어서 이것저것 사기 편했습니다. 재방문 의사 있어요~',\n",
       "  'stars': 5,\n",
       "  'date': '2023.09.24'},\n",
       " {'review': '피트니스센터가 아주 잘되어있어서 좋았습니다\\r\\n숙소도 트윈밖에 남아있지 않았는데 더블을 원하니깐 최대한 맞춰주려고 노력하주셔서 감사했습니다!',\n",
       "  'stars': 5,\n",
       "  'date': '2023.01.26'},\n",
       " {'review': '설 연휴 호캉스차 숙소를 알아보다가 비교 후 예약한 곳인데 후기가 너무 극과 극 천차만별이라 첨엔 반신반의 확신이 없었어요,, 근데 머물러보니 호텔 경험 많지 않은 저에게는 청소가 엉망이다, 친절하지 않다 등의 별점 낮은 후기와 같은 일은 없었습니다!\\n당일 랜덤 숙소권인데 체크인 시 요청사항 여쭤보시고는 2개 맞춰주셨어요 ㅎㅎ (요청사항: 고층, 넓은 원배드, 욕조 등) \\n룸 컨디션 좋았고 패브리즈와 마스터 키 요청 모두 친절히 추가로 응해주셨습니다\\n서울 한복판에 가성비 호텔로 좋습니다\\n퇴실 전 아침에 준비할 때 찍은 사진 함께 공유해요 ~~',\n",
       "  'stars': 5,\n",
       "  'date': '2023.01.26'}]"
      ]
     },
     "execution_count": 1,
     "metadata": {},
     "output_type": "execute_result"
    }
   ],
   "source": [
    "import json\n",
    "\n",
    "with open('./res/reviews.json', 'r') as f:\n",
    "    review_list = json.load(f)\n",
    "\n",
    "review_list[:3]"
   ]
  },
  {
   "cell_type": "code",
   "execution_count": 2,
   "metadata": {},
   "outputs": [
    {
     "data": {
      "text/plain": [
       "(172, 48)"
      ]
     },
     "execution_count": 2,
     "metadata": {},
     "output_type": "execute_result"
    }
   ],
   "source": [
    "good_cnt, bad_cnt = 0, 0\n",
    "\n",
    "for review in review_list:\n",
    "  if review['stars'] == 5:\n",
    "    good_cnt += 1\n",
    "  else:\n",
    "    bad_cnt += 1\n",
    "\n",
    "good_cnt, bad_cnt"
   ]
  },
  {
   "cell_type": "code",
   "execution_count": 3,
   "metadata": {},
   "outputs": [
    {
     "data": {
      "text/plain": [
       "['[REVIEW_START]주차불편 도보이용 외에는 다 좋았어요[REVIEW_END]',\n",
       " '[REVIEW_START]좋았어요 무냐히 사용합니다[REVIEW_END]',\n",
       " '[REVIEW_START]1. 신라스테이는 여름에 가지 않는걸 추천드립니다. 중앙제어 냉방 시스템이기 때문에, 묵었던 날이 폭염이었음에도 불구하고 프론트에 연락해도 아무 것도 해줄 수 없다는 말만 들었습니다. 요즘 시대에 아직도 중앙제어 온도 기능이 있다는게 놀랍습니다. 그래도 친절한 직원분들 덕분에 선풍기 하나는 받아서 잠은 잤습니다. 이건 서비스가 아니라 구조적인 문제라고 생각되네요.\\n\\n2. 핸드폰이 침대 옆에 떨어져 줍다가 다리가 많은 돈벌레를 보고 놀랐습니다. 저는 그나마 벌레를 잘 잡는 편이라 그 자리에서 잡고 다음 날 클레임도 안하고 대수롭지 않게 넘어갔지만 벌레를 혐오하거나 무서워하는 분들이 봤어도 이렇게 조용히 넘어갔을까 하는 생각이 듭니다.\\n\\n그동안 신라스테이 광화문, 서대문, 구로, 삼성, 마포 등 서울 내 지점들을 이용한 횟수만 30회 가까이 되는데 앞으로는 조금 더 투자해서 다른 곳에 묵을 예정입니다. 제가 이 정도 비용을 지불하고, 벌레 안 나오는 시원한 곳에서 편하게 묵으려고 한게 과한 욕심이었을까요...?[REVIEW_END]']"
      ]
     },
     "execution_count": 3,
     "metadata": {},
     "output_type": "execute_result"
    }
   ],
   "source": [
    "reviews_good, reviews_bad = [], []\n",
    "\n",
    "for review in review_list:\n",
    "  if review['stars'] == 5:\n",
    "    reviews_good.append('[REVIEW_START]' + review['review'] + '[REVIEW_END]')\n",
    "  else:\n",
    "    reviews_bad.append('[REVIEW_START]' + review['review'] + '[REVIEW_END]')\n",
    "\n",
    "reviews_bad[:3]"
   ]
  },
  {
   "cell_type": "code",
   "execution_count": 7,
   "metadata": {},
   "outputs": [
    {
     "data": {
      "text/plain": [
       "'[REVIEW_START]너무 깨끗하고 좋아요[REVIEW_END]\\n[REVIEW_START]너무 깨끗하고 좋아요[REVIEW_END]\\n[REVIEW_START]너무 깨끗하고 좋아요[REVIEW_END]\\n[REVIEW_START]잘 쉬고 갑니다 다음에도 이용할게요[REVIEW_END]\\n[REVIEW_START]여의도로 출장갈때 항상 먼저보게되는 숙소입니다[REVIEW_END]\\n[REVIEW_START]너무좋아요 직원분들완전친절해요[REVIEW_END]\\n[REVIEW_START]신라스테이야 뭐 아디든 평타이상[REVIEW_END]\\n[REVIEW_START]복도 방음이 살짝 안되서 아쉬웠지만, 입지 조건도 그렇고, 잘 있다 갑니다:)[REVIEW_END]\\n[REVIEW_START]동급에서는 무난하다고 생각합니다[REVIEW_END]\\n[REVIEW_START]침구가 따뜻하고 편안합니다. 일과 휴식을 동시에 해야 할 때 종종 이용하는데 이번에는 액자가 삐뚫어져 있거나 욕실 내 바닥 미끄럼 주의 팻말이 떨어지기 직전으로 틀어져 있는 등 다소 관리가 덜 되었던 점이 아쉬었어요.[REVIEW_END]\\n[REVIEW_START]기억에 남는게 없네요 딱히 좋지도 나쁘지도 않은 ㅎ[REVIEW_END]\\n[REVIEW_START]디너로 레스토랑 이용했는데 너무 좋았습니다[REVIEW_END]\\n[REVIEW_START]항상 잘 머물다 갑니다.[REVIEW_END]\\n[REVIEW_START]더운 날씨에 데이유즈해서 좋았습니다[REVIEW_END]\\n[REVIEW_START]18일 1박하고 오늘(19일) 체크아웃했습니다 편안하게 잘 묵고 왔는데 제가 깜빡하고 셔츠를 객실(1413호)에 두고 왔습니다 혹시 가능하면 착불로 받을 수 있을까요 ㅠ[REVIEW_END]\\n[REVIEW_START]조식도 맛있고 원가보다 저렴하게 잘다녀왔어요\\n침대가 정말 편해서 꿀잠잤네요[REVIEW_END]\\n[REVIEW_START]역시 신스 좋습니다 ㅇㄹ[REVIEW_END]\\n[REVIEW_START]직원분들이'"
      ]
     },
     "execution_count": 7,
     "metadata": {},
     "output_type": "execute_result"
    }
   ],
   "source": [
    "import datetime\n",
    "from dateutil import parser\n",
    "\n",
    "def preprocess_reviews(path='./res/reviews.json'):\n",
    "  with open(path, 'r', encoding='utf-8') as f:\n",
    "    review_list = json.load(f)\n",
    "  \n",
    "  reviews_good, reviews_bad = [], []\n",
    "\n",
    "  current_date = datetime.datetime.now()\n",
    "  date_boundary = current_date - datetime.timedelta(days=6*30)\n",
    "\n",
    "  for review in review_list:\n",
    "    review_date_str = review['date']\n",
    "    try:\n",
    "      review_date = parser.parse(review_date_str)\n",
    "    except (ValueError, TypeError):\n",
    "      review_date = current_date\n",
    "\n",
    "    if review_date < date_boundary:\n",
    "      continue\n",
    "      \n",
    "    if review['stars'] == 5:\n",
    "      reviews_good.append('[REVIEW_START]' + review['review'] + '[REVIEW_END]')\n",
    "    else:\n",
    "      reviews_bad.append('[REVIEW_START]' + review['review'] + '[REVIEW_END]')\n",
    "\n",
    "  review_good_text = '\\n'.join(reviews_good)\n",
    "  review_bad_text = '\\n'.join(reviews_bad)\n",
    "  return review_good_text, review_bad_text\n",
    "\n",
    "good, bad = preprocess_reviews()\n",
    "good[:1000]"
   ]
  },
  {
   "cell_type": "markdown",
   "metadata": {},
   "source": [
    "MT-Bench"
   ]
  },
  {
   "cell_type": "code",
   "execution_count": 8,
   "metadata": {},
   "outputs": [],
   "source": [
    "def pairwise_eval(reviews, answer_a, answer_b):\n",
    "    eval_prompt = f\"\"\"[System]\n",
    "Please act as an impartial judge and evaluate the quality of the Korean summaries provided by two\n",
    "AI assistants to the set of user reviews on accommodations displayed below. You should choose the assistant that\n",
    "follows the user’s instructions and answers the user’s question better. Your evaluation\n",
    "should consider factors such as the helpfulness, relevance, accuracy, depth, creativity,\n",
    "and level of detail of their responses. Begin your evaluation by comparing the two\n",
    "responses and provide a short explanation. Avoid any position biases and ensure that the\n",
    "order in which the responses were presented does not influence your decision. Do not allow\n",
    "the length of the responses to influence your evaluation. Do not favor certain names of\n",
    "the assistants. Be as objective as possible. After providing your explanation, output your\n",
    "final verdict by strictly following this format: \"[[A]]\" if assistant A is better, \"[[B]]\"\n",
    "if assistant B is better, and \"[[C]]\" for a tie.\n",
    "[User Reviews]\n",
    "{reviews}\n",
    "[The Start of Assistant A’s Answer]\n",
    "{answer_a}\n",
    "[The End of Assistant A’s Answer]\n",
    "[The Start of Assistant B’s Answer]\n",
    "{answer_b}\n",
    "[The End of Assistant B’s Answer]\"\"\"\n",
    "    \n",
    "    completion = client.chat.completions.create(\n",
    "        model='gpt-4o-2024-05-13',\n",
    "        messages=[{'role': 'user', 'content': eval_prompt}],\n",
    "        temperature=0.0\n",
    "    )\n",
    "\n",
    "    return completion"
   ]
  },
  {
   "cell_type": "code",
   "execution_count": 9,
   "metadata": {},
   "outputs": [],
   "source": [
    "PROMPT_BASELINE = f\"\"\"아래 숙소에 대해서 5문장 내로 요약해줘:\"\"\""
   ]
  },
  {
   "cell_type": "code",
   "execution_count": 13,
   "metadata": {},
   "outputs": [
    {
     "data": {
      "text/plain": [
       "True"
      ]
     },
     "execution_count": 13,
     "metadata": {},
     "output_type": "execute_result"
    }
   ],
   "source": [
    "from openai import OpenAI\n",
    "import os \n",
    "from dotenv import load_dotenv\n",
    "\n",
    "load_dotenv()\n"
   ]
  },
  {
   "cell_type": "code",
   "execution_count": 19,
   "metadata": {},
   "outputs": [
    {
     "name": "stdout",
     "output_type": "stream",
     "text": [
      "깨끗하고 편안한 숙소로, 공덕역 근처에 위치해 교통이 편리하며 직원들도 친절하다. 다만 일부 시설이 노후화되어 업그레이드가 필요한 점이 아쉬움을 남긴다.\n"
     ]
    }
   ],
   "source": [
    "\n",
    "reviews, _ = preprocess_reviews(path=\"./res/reviews.json\")\n",
    "\n",
    "client = OpenAI(api_key=os.getenv('OPENAI_API_KEY'))\n",
    "\n",
    "def summarize(reviews, prompt, temperature=0.0, model='gpt-3.5-turbo-0125'):\n",
    "  prompt = prompt + '\\n\\n' + reviews\n",
    "\n",
    "  completion = client.chat.completions.create(\n",
    "    model=model,\n",
    "    messages=[{'role': 'user', 'content': prompt}],\n",
    "    temperature=temperature\n",
    "  )\n",
    "\n",
    "  return completion\n",
    "\n",
    "print(summarize(reviews, PROMPT_BASELINE).choices[0].message.content)"
   ]
  },
  {
   "cell_type": "code",
   "execution_count": 22,
   "metadata": {},
   "outputs": [
    {
     "data": {
      "text/plain": [
       "['깨끗하고 편안한 숙소로, 항상 만족스러운 서비스를 제공하며 교통이 편리한 곳에 위치해 있습니다.',\n",
       " '깔끔하고 편안한 숙소로 친절한 직원과 교통 편리성이 좋으며 만족스러운 숙박이었다.',\n",
       " '깨끗하고 편안한 신라스테이 숙소, 친절한 직원과 좋은 위치로 출장에 적합하며, 아쉬운 점은 있지만 만족스러운 숙박 경험을 제공합니다.',\n",
       " '신라스테이는 깨끗하고 조용한 숙소로 고객들이 만족하며 휴식을 취할 수 있는 숙박 시설이며, 공덕역과 가까운 위치와 친절한 직원들이 장점으로 손꼽힌다. 방은 편안하고 침구도 편안하며, 조식 또한 맛있게 제공된다. 특히 청결도와 시설에 대한 만족도가 높다.',\n",
       " '깨끗하고 좋은 숙소로, 잠자리는 편안하고 직원들이 친절하며 위치가 편리하다. 현관 조건이 조금 아쉬운 점을 빼면 전반적으로 만족스러운 곳이라고 생각된다.',\n",
       " '해당 숙소는 깨끗하고 만족스러운 서비스를 제공하는 호텔로, 공덕역 근처에 위치하며 편리한 교통과 친절한 직원들이 돋보입니다. 다만 일부 방음이 미흡한 점이 아쉽고, TV 및 시설 업그레이드가 필요한 것으로 나타났습니다.',\n",
       " '깔끔하고 좋은 숙소, 여의도 출장 시 자주 이용, 직원 친절, 신라스테이 수준, 방음이 미흡함.',\n",
       " '신라스테이 여의도 숙소는 깨끗하고 좋은 곳으로 직원분들이 친절하며, 위치와 시설이 만족스러워 한다. 다소 노후화된 시설이 있으나 대체적으로 훌륭한 숙소로 평가받는다.',\n",
       " '해당 숙소는 깨끗하고 편안한 환경에서 휴식을 취할 수 있는 곳으로, 위치도 좋아 출장이나 여행에 이용하기에 적합한 곳이며 직원들의 친절한 응대가 인상적이다. 종종 이용하는 곳으로서 침구 및 조식이 편안하고 맛있으며, 가격 대비 만족스러운 서비스를 제공받을 수 있는 곳이다.',\n",
       " '너무 깨끗하고 좋은 숙소로 위치와 친절한 직원들이 인상적이며, 조식도 맛있는 편이지만 몇몇 부분에서 관리가 부족하거나 개선이 필요한 점이 있는 것으로 보입니다.']"
      ]
     },
     "execution_count": 22,
     "metadata": {},
     "output_type": "execute_result"
    }
   ],
   "source": [
    "eval_count = 10\n",
    "\n",
    "# print(summarize(reviews, PROMPT_BASELINE).choices[0].message.content)\n",
    "summaries_baseline = [summarize(reviews, PROMPT_BASELINE, temperature=1.0).choices[0].message.content for _ in range(eval_count)]\n",
    "summaries_baseline"
   ]
  },
  {
   "cell_type": "code",
   "execution_count": 24,
   "metadata": {},
   "outputs": [],
   "source": [
    "summary_real_20241003 = '교통이 편리한 위치에 있으며, 청결한 상태를 유지하고 있어 많은 후기가 긍정적입니다. 객실은 넷플릭스 시청을 위한 기기 대여가 필요하지만 전반적으로 깔끔하고 편안한 분위기를 제공합니다. 직원들의 친절한 응대가 인상적이며, 조식과 디너 서비스 역시 우수하다는 평이 있습니다. 다만, 방음과 시설 노후화 관련 아쉬운 점이 언급되기도 했습니다. 종합적으로 접근성과 서비스가 우수한 조건을 갖춘 숙소입니다.'"
   ]
  },
  {
   "cell_type": "code",
   "execution_count": 25,
   "metadata": {},
   "outputs": [
    {
     "name": "stderr",
     "output_type": "stream",
     "text": [
      "100%|██████████| 10/10 [00:27<00:00,  2.78s/it]"
     ]
    },
    {
     "name": "stdout",
     "output_type": "stream",
     "text": [
      "Wins: 0, Loses: 10, Ties: 0\n"
     ]
    },
    {
     "name": "stderr",
     "output_type": "stream",
     "text": [
      "\n"
     ]
    }
   ],
   "source": [
    "from tqdm import tqdm\n",
    "\n",
    "def pairwise_eval_batch(reviews, answers_a, answers_b):\n",
    "  a_cnt, b_cnt, draw_cnt = 0, 0, 0\n",
    "  for i in tqdm(range(len(answers_a))):\n",
    "    completion = pairwise_eval(reviews, answers_a[i], answers_b[i])\n",
    "    verdict_text = completion.choices[0].message.content\n",
    "\n",
    "    if '[[A]]' in verdict_text:\n",
    "      a_cnt += 1\n",
    "    elif '[[B]]' in verdict_text:\n",
    "      b_cnt += 1\n",
    "    elif '[[C]]' in verdict_text:\n",
    "      draw_cnt += 1\n",
    "    else:\n",
    "      print(\"Evaluation Error\")\n",
    "\n",
    "  return a_cnt, b_cnt, draw_cnt\n",
    "\n",
    "wins, loses, ties = pairwise_eval_batch(reviews, summaries_baseline, [summary_real_20241003]*eval_count)\n",
    "print(f\"Wins: {wins}, Loses: {loses}, Ties: {ties}\")"
   ]
  },
  {
   "cell_type": "markdown",
   "metadata": {},
   "source": [
    "## 고도화: 조건 명시"
   ]
  },
  {
   "cell_type": "code",
   "execution_count": 26,
   "metadata": {},
   "outputs": [
    {
     "name": "stderr",
     "output_type": "stream",
     "text": [
      "100%|██████████| 10/10 [00:32<00:00,  3.29s/it]"
     ]
    },
    {
     "name": "stdout",
     "output_type": "stream",
     "text": [
      "Wins: 0, Losses: 9, Ties: 1\n"
     ]
    },
    {
     "name": "stderr",
     "output_type": "stream",
     "text": [
      "\n"
     ]
    }
   ],
   "source": [
    "prompt = f\"\"\"당신은 요약 전문가입니다. 사용자 숙소 리뷰들이 주어졌을 때 요약하는 것이 당신의 목표입니다.\n",
    "\n",
    "요약 결과는 다음 조건들을 충족해야 합니다:\n",
    "1. 모든 문장은 항상 존댓말로 끝나야 합니다.\n",
    "2. 숙소에 대해 소개하는 톤앤매너로 작성해주세요.\n",
    "  2-1. 좋은 예시\n",
    "    a) 전반적으로 좋은 숙소였고 방음도 괜찮았다는 평입니다.\n",
    "    b) 재방문 예정이라는 평들이 존재합니다.\n",
    "  2-2. 나쁜 예시\n",
    "    a) 좋은 숙소였고 방음도 괜찮았습니다.\n",
    "    b) 재방문 예정입니다.\n",
    "3. 요약 결과는 최소 2문장, 최대 5문장 사이로 작성해주세요.\n",
    "    \n",
    "아래 숙소 리뷰들에 대해 요약해주세요:\"\"\"\n",
    "\n",
    "eval_count = 10\n",
    "summaries = [summarize(reviews, prompt, temperature=1.0).choices[0].message.content for _ in range(eval_count)]\n",
    "wins, losses, ties = pairwise_eval_batch(reviews, summaries, [summary_real_20241003 for _ in range(len(summaries))])\n",
    "print(f'Wins: {wins}, Losses: {losses}, Ties: {ties}')"
   ]
  },
  {
   "cell_type": "markdown",
   "metadata": {},
   "source": [
    "## 고도화 2: 입력 데이터 품질 증가"
   ]
  },
  {
   "cell_type": "code",
   "execution_count": 28,
   "metadata": {},
   "outputs": [],
   "source": [
    "def preprocess_reviews(path='./res/reviews.json'):\n",
    "  with open(path, 'r', encoding='utf-8') as f:\n",
    "    review_list = json.load(f)\n",
    "  \n",
    "  reviews_good, reviews_bad = [], []\n",
    "\n",
    "  current_date = datetime.datetime.now()\n",
    "  date_boundary = current_date - datetime.timedelta(days=6*30)\n",
    "\n",
    "  for review in review_list:\n",
    "    review_date_str = review['date']\n",
    "    try:\n",
    "      review_date = parser.parse(review_date_str)\n",
    "    except (ValueError, TypeError):\n",
    "      review_date = current_date\n",
    "\n",
    "    if review_date < date_boundary:\n",
    "      continue\n",
    "    if len(review['review']) < 30:\n",
    "      continue\n",
    "      \n",
    "    if review['stars'] == 5:\n",
    "      reviews_good.append('[REVIEW_START]' + review['review'] + '[REVIEW_END]')\n",
    "    else:\n",
    "      reviews_bad.append('[REVIEW_START]' + review['review'] + '[REVIEW_END]')\n",
    "\n",
    "  review_good_text = '\\n'.join(reviews_good)\n",
    "  review_bad_text = '\\n'.join(reviews_bad)\n",
    "  return review_good_text, review_bad_text\n",
    "\n",
    "reviews, _ = preprocess_reviews(path=\"./res/reviews.json\")"
   ]
  },
  {
   "cell_type": "code",
   "execution_count": 29,
   "metadata": {},
   "outputs": [
    {
     "name": "stderr",
     "output_type": "stream",
     "text": [
      "100%|██████████| 10/10 [00:40<00:00,  4.05s/it]"
     ]
    },
    {
     "name": "stdout",
     "output_type": "stream",
     "text": [
      "Wins: 4, Losses: 6, Ties: 0\n"
     ]
    },
    {
     "name": "stderr",
     "output_type": "stream",
     "text": [
      "\n"
     ]
    }
   ],
   "source": [
    "eval_count = 10\n",
    "summaries = [summarize(reviews, prompt, temperature=1.0).choices[0].message.content for _ in range(eval_count)]\n",
    "wins, losses, ties = pairwise_eval_batch(reviews, summaries, [summary_real_20241003 for _ in range(len(summaries))])\n",
    "print(f'Wins: {wins}, Losses: {losses}, Ties: {ties}')"
   ]
  },
  {
   "cell_type": "markdown",
   "metadata": {},
   "source": [
    "\n",
    "Few-Shot"
   ]
  },
  {
   "cell_type": "code",
   "execution_count": 30,
   "metadata": {},
   "outputs": [],
   "source": [
    "reviews_1shot, _ = preprocess_reviews(path=\"./res/shillastay_Seodaemun.json\")\n",
    "summary_1shot = summarize(reviews_1shot, prompt, temperature=0.0, model='gpt-4o-2024-05-13').choices[0].message.content\n"
   ]
  },
  {
   "cell_type": "code",
   "execution_count": 31,
   "metadata": {},
   "outputs": [
    {
     "name": "stderr",
     "output_type": "stream",
     "text": [
      "100%|██████████| 10/10 [00:37<00:00,  3.75s/it]"
     ]
    },
    {
     "name": "stdout",
     "output_type": "stream",
     "text": [
      "Wins: 5, Losses: 5, Ties: 0\n"
     ]
    },
    {
     "name": "stderr",
     "output_type": "stream",
     "text": [
      "\n"
     ]
    }
   ],
   "source": [
    "prompt_1shot = f\"\"\"당신은 요약 전문가입니다. 사용자 숙소 리뷰들이 주어졌을 때 요약하는 것이 당신의 목표입니다.\n",
    "\n",
    "요약 결과는 다음 조건들을 충족해야 합니다:\n",
    "1. 모든 문장은 항상 존댓말로 끝나야 합니다.\n",
    "2. 숙소에 대해 소개하는 톤앤매너로 작성해주세요.\n",
    "  2-1. 좋은 예시\n",
    "    a) 전반적으로 좋은 숙소였고 방음도 괜찮았다는 평입니다.\n",
    "    b) 재방문 예정이라는 평들이 존재합니다.\n",
    "  2-2. 나쁜 예시\n",
    "    a) 좋은 숙소였고 방음도 괜찮았습니다.\n",
    "    b) 재방문 예정입니다.\n",
    "3. 요약 결과는 최소 2문장, 최대 5문장 사이로 작성해주세요.\n",
    "\n",
    "다음은 리뷰들과 요약 예시입니다.\n",
    "예시 리뷰들:\n",
    "{reviews_1shot}\n",
    "예시 요약 결과:\n",
    "{summary_1shot}\n",
    "    \n",
    "아래 숙소 리뷰들에 대해 요약해주세요:\"\"\"\n",
    "\n",
    "summaries = [summarize(reviews, prompt, temperature=1.0, model='gpt-3.5-turbo-0125').choices[0].message.content for _ in range(eval_count)]\n",
    "wins, losses, ties = pairwise_eval_batch(reviews, summaries, [summary_real_20241003 for _ in range(len(summaries))])\n",
    "print(f'Wins: {wins}, Losses: {losses}, Ties: {ties}')"
   ]
  },
  {
   "cell_type": "code",
   "execution_count": null,
   "metadata": {},
   "outputs": [],
   "source": []
  }
 ],
 "metadata": {
  "kernelspec": {
   "display_name": ".venv",
   "language": "python",
   "name": "python3"
  },
  "language_info": {
   "codemirror_mode": {
    "name": "ipython",
    "version": 3
   },
   "file_extension": ".py",
   "mimetype": "text/x-python",
   "name": "python",
   "nbconvert_exporter": "python",
   "pygments_lexer": "ipython3",
   "version": "3.12.4"
  }
 },
 "nbformat": 4,
 "nbformat_minor": 2
}
