{
 "cells": [
  {
   "cell_type": "code",
   "execution_count": 1,
   "metadata": {},
   "outputs": [
    {
     "data": {
      "text/plain": [
       "[{'review': '친구들 3명에서 급하게 예약을 했던 숙손데 와.. 우선 프론트 직원님들.. 진짜 너무 친절해서 기분이 좋았습니다. 2박3일 일정이였는데 기분좋게 하루를 시작했고 숙소 위치도 그냥 완전 좋아요..!!!!! 애월은 마스터했습니다. ㅋㅋㅋㅋ 위치 금액 시설이용 서비스 위생 뭐 하나 빠지는거없이  (친구들도인정) 너무 편하게 잘 쉬다가 갑니다 ㅎㅎㅎ 후기 잘 안쓰는데 여기는 꼭 쓰고싶어서 이렇게 남깁니다!오늘도 좋은 하루 되세용:)🍀',\n",
       "  'stars': 5,\n",
       "  'date': '2024.07.13'},\n",
       " {'review': '완전 굿굿 꼭 오션뷰로 하세요 ! !!!!!곽지해수욕장 바로 앞이에요!뷰 짱 좋고 너무 맘에 드는 숙소였어요 !  침구도 깨끗하니 보송보송하고 사각사각 바스락 소리나는 딱 호텔 침구라 저는 좋았는데 귀 예민한 부모님은 시끄러워서 잠을 못 주무셨다네요ㅠㅠ ..ㅎㅎ 예민한분들 참고하세요그리고 주변 식당들이 일찍 문을 닫아서10분정도 걸어가서 포차에서 맥주 한잔과 식사했네요! 저는 완전 만족하고가요 !!!',\n",
       "  'stars': 5,\n",
       "  'date': '2024.02.27'},\n",
       " {'review': '곽지 해수욕장에서 해수욕하고 놀기 넘 좋아요~ 뷰도 끝내주고 숙소 올라오는 계단 위에 샤워기로 모래도 씻을 수 있고 방도 작지 않고 침구도 깨끗하구요!! 침대 두개 붙여서 아이가 떼굴떼굴 굴러다니며 잤네요^^ 그리고 물놀이용품 없어도 구명조끼, 튜브, 돗자리, 모래놀이 등 다 빌려사용할 수 있어서 넘 좋았어요~~담에 꼭 또 가려구요^^ 잘 지내다 갑니다^^',\n",
       "  'stars': 5,\n",
       "  'date': '2024.09.03'}]"
      ]
     },
     "execution_count": 1,
     "metadata": {},
     "output_type": "execute_result"
    }
   ],
   "source": [
    "import json\n",
    "with open('./res/jeju_marevo.json', 'r', encoding='UTF8') as f:\n",
    "    review_list = json.load(f)\n",
    "\n",
    "review_list[:3]"
   ]
  },
  {
   "cell_type": "code",
   "execution_count": 2,
   "metadata": {},
   "outputs": [
    {
     "data": {
      "text/plain": [
       "(162, 58)"
      ]
     },
     "execution_count": 2,
     "metadata": {},
     "output_type": "execute_result"
    }
   ],
   "source": [
    "good_cnt, bad_cnt = 0, 0\n",
    "for review in review_list:\n",
    "    if review['stars'] == 5:\n",
    "        good_cnt += 1\n",
    "    else:\n",
    "        bad_cnt += 1\n",
    "\n",
    "good_cnt, bad_cnt"
   ]
  },
  {
   "cell_type": "code",
   "execution_count": 3,
   "metadata": {},
   "outputs": [
    {
     "data": {
      "text/plain": [
       "['[REVIEW_START]위치도 좋고 경치는 더 좋은데 도보로 식당 찾기는 좀 애매하더라구요 객실도 욕실도 깨끗하고 다 좋은데 침대 매트리스가 좀 많이 흔들리고 다음 날 허리가 좀 아프더라구요 뭔가 조금 아쉬웠어요[REVIEW_END]',\n",
       " '[REVIEW_START]오션뷰도 좋고 침대 쿠션도 좃고 숙면을 축한 하룻밤이였네요..방크기가 조금작고 디저트가 안보여서 아쉬웠어요..아침에 일어나 모닝커피를 못마셨네요....곽지해수욕장이 바로 코앞이라  바다는 실컷봤습니다, .친구들이 넘넘 잘 잡았데요..다음에 또 찾고 싶네요.ㅎ[REVIEW_END]',\n",
       " '[REVIEW_START]곡지 해수욕장이 바로 앞에 있고 바다뷰라 아주 좋아요 편의점도 가깝고 주변 맛집도 많고 만족합니다. 4인가족으로 가니 객실이 좀 좁아서 아쉽긴했지만 만족스런 하루 였습니다 ^^[REVIEW_END]']"
      ]
     },
     "execution_count": 3,
     "metadata": {},
     "output_type": "execute_result"
    }
   ],
   "source": [
    "reviews_good, reviews_bad = [], []\n",
    "\n",
    "for review in review_list:\n",
    "    if review['stars'] == 5:\n",
    "        reviews_good.append('[REVIEW_START]' + review['review'] + '[REVIEW_END]')\n",
    "    else:\n",
    "        reviews_bad.append('[REVIEW_START]' + review['review'] + '[REVIEW_END]')\n",
    "\n",
    "reviews_bad[:3]"
   ]
  },
  {
   "cell_type": "code",
   "execution_count": 4,
   "metadata": {},
   "outputs": [
    {
     "data": {
      "text/plain": [
       "'[REVIEW_START]친구들 3명에서 급하게 예약을 했던 숙손데 와.. 우선 프론트 직원님들.. 진짜 너무 친절해서 기분이 좋았습니다. 2박3일 일정이였는데 기분좋게 하루를 시작했고 숙소 위치도 그냥 완전 좋아요..!!!!! 애월은 마스터했습니다. ㅋㅋㅋㅋ 위치 금액 시설이용 서비스 위생 뭐 하나 빠지는거없이  (친구들도인정) 너무 편하게 잘 쉬다가 갑니다 ㅎㅎㅎ 후기 잘 안쓰는데 여기는 꼭 쓰고싶어서 이렇게 남깁니다!오늘도 좋은 하루 되세용:)🍀[REVIEW_END]\\n[REVIEW_START]곽지 해수욕장에서 해수욕하고 놀기 넘 좋아요~ 뷰도 끝내주고 숙소 올라오는 계단 위에 샤워기로 모래도 씻을 수 있고 방도 작지 않고 침구도 깨끗하구요!! 침대 두개 붙여서 아이가 떼굴떼굴 굴러다니며 잤네요^^ 그리고 물놀이용품 없어도 구명조끼, 튜브, 돗자리, 모래놀이 등 다 빌려사용할 수 있어서 넘 좋았어요~~담에 꼭 또 가려구요^^ 잘 지내다 갑니다^^[REVIEW_END]\\n[REVIEW_START]7년전에 왔을때랑 별반 다르지 않아서 깜짝 놀랐어요!바닷가 앞이라 숙박객들도 대부분 바다에서 놀다가 오실분들이 많으실것같은데 복도며 객실이며 깔끔해서 좋았어요.아기랑 간다고 말씀드렸더니 침대도 붙여주시고덕분에 아기 떨어질 걱정없이 셋이서 편하게 잤어요ㅎㅎ바다에서 재밌게 놀고 숙소가 가까우니 너무 좋아요!7년전 여행때도 좋았는데이번에도 즐겁게 하루 지내다 가요!고맙습니다~[REVIEW_END]\\n[REVIEW_START]부대시설이 좋았어요~치약이랑 칫솔 .로션까지 구비되어 있어 넘좋았어요 아이들과 부모님 이 같이 가니 침대 배치도 넓게 쓸수있게 해주셔서 좋았고 ~객실서 음식도 먹을수 있다고하셔서 좋았어요~바로앞 바닷가라 산책하기도 좋아요.편의점도 바로앞에 있어요[REVIEW_END]\\n[REVIEW_START]부대시설이 좋았어요~치약이랑 칫솔 .로션까지 구비되어 있어 넘좋았어요 아이들과 부모님 이 같이 가니 침대 배치도 넓게 쓸수있게 해주셔서 좋았고 ~객실서 음식도 먹을수 '"
      ]
     },
     "execution_count": 4,
     "metadata": {},
     "output_type": "execute_result"
    }
   ],
   "source": [
    "import datetime\n",
    "from dateutil import parser\n",
    "\n",
    "def preprocess_reviews(path):\n",
    "    with open(path, 'r', encoding='utf-8') as f:\n",
    "        review_list = json.load(f)\n",
    "\n",
    "    reviews_good, reviews_bad = [], []\n",
    "\n",
    "    current_date = datetime.datetime.now()\n",
    "    date_boundary = current_date - datetime.timedelta(days=6*30)\n",
    "\n",
    "    for review in review_list:\n",
    "        review_date_str = review['date']\n",
    "        try:\n",
    "            review_date = parser.parse(review_date_str)\n",
    "        except (ValueError, TypeError):\n",
    "            review_date = current_date\n",
    "\n",
    "        if review_date < date_boundary:\n",
    "            continue\n",
    "\n",
    "        if review['stars']==5:\n",
    "            reviews_good.append('[REVIEW_START]' + review['review'] + '[REVIEW_END]')\n",
    "        else:\n",
    "            reviews_bad.append('[REVIEW_START]' + review['review'] + '[REVIEW_END]')\n",
    "\n",
    "    reviews_good_text = '\\n'.join(reviews_good)\n",
    "    reviews_bad_text = '\\n'.join(reviews_bad)\n",
    "\n",
    "    return reviews_good_text, reviews_bad_text\n",
    "\n",
    "good,bad = preprocess_reviews('./res/jeju_marevo.json')\n",
    "good[:1000]"
   ]
  },
  {
   "cell_type": "code",
   "execution_count": 5,
   "metadata": {},
   "outputs": [],
   "source": [
    "def pairwise_eval(reviews, answer_a, answer_b):\n",
    "    eval_prompt = f\"\"\"[System]\n",
    "Please act as an impartial judge and evaluate the quality of the Korean summaries provided by two\n",
    "AI assistants to the set of user reviews on accommodations displayed below. You should choose the assistant that\n",
    "follows the user’s instructions and answers the user’s question better. Your evaluation\n",
    "should consider factors such as the helpfulness, relevance, accuracy, depth, creativity,\n",
    "and level of detail of their responses. Begin your evaluation by comparing the two\n",
    "responses and provide a short explanation. Avoid any position biases and ensure that the\n",
    "order in which the responses were presented does not influence your decision. Do not allow\n",
    "the length of the responses to influence your evaluation. Do not favor certain names of\n",
    "the assistants. Be as objective as possible. After providing your explanation, output your\n",
    "final verdict by strictly following this format: \"[[A]]\" if assistant A is better, \"[[B]]\"\n",
    "if assistant B is better, and \"[[C]]\" for a tie.\n",
    "[User Reviews]\n",
    "{reviews}\n",
    "[The Start of Assistant A’s Answer]\n",
    "{answer_a}\n",
    "[The End of Assistant A’s Answer]\n",
    "[The Start of Assistant B’s Answer]\n",
    "{answer_b}\n",
    "[The End of Assistant B’s Answer]\"\"\"\n",
    "    \n",
    "    completion = client.chat.completions.create(\n",
    "        model='gpt-4o-2024-05-13',\n",
    "        messages=[{'role': 'user', 'content': eval_prompt}],\n",
    "        temperature=0.0\n",
    "    )\n",
    "\n",
    "    return completion"
   ]
  },
  {
   "cell_type": "code",
   "execution_count": 6,
   "metadata": {},
   "outputs": [],
   "source": [
    "PROMPT_BASELINE = f\"\"\"아래 숙소에 대해서 5문장 내로 요약해줘:\"\"\""
   ]
  },
  {
   "cell_type": "code",
   "execution_count": 7,
   "metadata": {},
   "outputs": [],
   "source": [
    "from openai import OpenAI\n",
    "import os\n",
    "from dotenv import load_dotenv\n",
    "\n",
    "load_dotenv()\n",
    "api_key = os.getenv('OPENAI_API_KEY')"
   ]
  },
  {
   "cell_type": "code",
   "execution_count": 18,
   "metadata": {},
   "outputs": [
    {
     "name": "stdout",
     "output_type": "stream",
     "text": [
      "친절한 프론트 직원과 좋은 위치, 깨끗한 시설을 갖춘 곽지해변 숙소. 바다뷰와 부대시설이 훌륭하며, 편안한 휴식을 취할 수 있는 곳.\n"
     ]
    }
   ],
   "source": [
    "reviews, _= preprocess_reviews(path=\"./res/jeju_marevo.json\")\n",
    "\n",
    "client = OpenAI(api_key=os.getenv('OPENAI_API_KEY'))\n",
    "\n",
    "def summarize(review, prompt, temperature=0.0, model='gpt-3.5-turbo-0125'):\n",
    "    prompt = prompt + '\\n\\n' + review\n",
    "    \n",
    "    completion = client.chat.completions.create(\n",
    "        model=model,\n",
    "        messages=[{'role': 'user', 'content':prompt}],\n",
    "        temperature=temperature\n",
    "    )\n",
    "    return completion\n",
    "\n",
    "print(summarize(reviews, PROMPT_BASELINE).choices[0].message.content)"
   ]
  },
  {
   "cell_type": "code",
   "execution_count": 19,
   "metadata": {},
   "outputs": [
    {
     "data": {
      "text/plain": [
       "['친절한 프론트 직원, 편안한 숙박, 좋은 위치와 시설, 깨끗한 환경, 만족스러운 숙박 후기입니다.',\n",
       " '곽지해수욕장 근처에 있는 숙소로, 프론트 직원들이 매우 친절하며 시설이 편리하고 위치가 좋았다. 뷰도 좋고 침구도 깨끗하며 아이와 함께 머물기에 좋은 곳으로 추천받았다. 해변 즐기기에 최적이며 편의시설이 잘 갖추어져있으며 청결한 숙소라는 후기를 받았다.',\n",
       " '다양한 방문객들이 친절한 서비스와 깨끗한 시설을 칭찬하고 있으며, 숙소의 위치와 뷰가 매우 좋다고 언급하고 있습니다. 편의시설이 잘 구비되어 있어 편안한 휴식을 취할 수 있다는 리뷰도 있습니다. 전체적으로 만족도가 높은 숙소로 평가되고 있습니다.',\n",
       " '친절한 프론트 직원과 좋은 위치, 깨끗한 시설을 자랑하는 곽지해수욕장 인근 숙소. 해변에서 놀기에 최적이고, 부대시설도 만족스러움. 현지음식점과 편의점도 인접함. 객실 크기는 작지만 편안한 숙면을 제공함.',\n",
       " '곽지해수욕장 인근 숙소로 프론트 직원이 매우 친절하고 시설이 훌륭하며 청결한 숙소이며 바다뷰가 멋지고 위치가 좋아 다양한 부대시설을 이용할 수 있어서 친구들과 편안하게 쉴 수 있는 곳이었습니다.',\n",
       " '곽지해수욕장 앞에 위치한 숙소로 프론트 직원 친절하고 시설이용이 용이했으며, 바다뷰와 위치가 좋아 친구들과 편안한 여행을 즐겼다.튜브, 침구 등 물놀이 용품을 제공해주어 편리했고, 아이들과 함께 머무르기에도 적합한 숙소였으며, 깨끗하고 친절한 직원들이 좋았다.환상적인 바다뷰와 청결한 숙소로 편안히 머물 수 있었고, 다음에도 이용하고 싶다는 후기가 많이 남았다.',\n",
       " '친절한 프론트 직원과 편리한 위치, 깨끗한 시설로 소중한 휴양을 즐기기에 최적의 숙박장소입니다.',\n",
       " '친절한 프론트 직원과 좋은 위치, 편안한 숙소로 친구들과 잘 쉬다 간 곳. 해수욕장과 가까워 물놀이하기에도 좋았고, 부대시설이 잘 갖춰져 있어 편리했다. 아쉬움이 있다면 수건이 낡았고 와이파이가 조금 불편한 정도.',\n",
       " '곽지해수욕장 인근 숙소로 직원 친절, 깔끔한 객실, 바다 뷰가 좋고 부대시설이 잘 갖춰져 있으며 애월과 접근성이 좋음.',\n",
       " '친절한 프론트 직원과 깨끗한 객실로 손님들을 기분 좋게 해주는 숙소. 해변과 가까운 위치와 다양한 시설 이용이 편리한 곳. 부대시설이 잘 갖춰져 있어 가족 여행에 적합함. 뷰가 아름다운 숙소로 편안한 휴식을 제공함. 곽지해수욕장 근처에 위치하여 물놀이를 즐기기에 좋음.']"
      ]
     },
     "execution_count": 19,
     "metadata": {},
     "output_type": "execute_result"
    }
   ],
   "source": [
    "eval_count = 10\n",
    "\n",
    "summaries_baseline = [summarize(reviews, PROMPT_BASELINE, temperature=1.0).choices[0].message.content for _ in range(eval_count)]\n",
    "summaries_baseline"
   ]
  },
  {
   "cell_type": "code",
   "execution_count": 20,
   "metadata": {},
   "outputs": [],
   "source": [
    "summary_real_20241030 = '숙소는 곽지해수욕장 앞에 위치해 뛰어난 해변 접근성과 바다 전망을 제공합니다. 청결한 객실과 친절한 서비스, 세탁기 및 튜브 대여 등의 부대시설이 있으며, 근처에 편의점과 맛집도 있어 편리합니다. 일부 객실의 매트리스와 수건 추가 요금에 대한 아쉬움이 있지만, 전반적으로 가족 단위 투숙과 휴식에 적합한 숙소로 평가받고 있습니다.'"
   ]
  },
  {
   "cell_type": "code",
   "execution_count": 21,
   "metadata": {},
   "outputs": [
    {
     "name": "stderr",
     "output_type": "stream",
     "text": [
      "100%|██████████| 10/10 [00:41<00:00,  4.19s/it]"
     ]
    },
    {
     "name": "stdout",
     "output_type": "stream",
     "text": [
      "wins: 0, Loses: 10, Ties: 0\n"
     ]
    },
    {
     "name": "stderr",
     "output_type": "stream",
     "text": [
      "\n"
     ]
    }
   ],
   "source": [
    "from tqdm import tqdm\n",
    "\n",
    "def pairwise_eval_batch(reviews, answers_a, answers_b):\n",
    "    a_cnt, b_cnt, draw_cnt = 0, 0, 0\n",
    "    for i in tqdm(range(len(answers_a))):\n",
    "        completion = pairwise_eval(reviews, answers_a[i], answers_b[i])\n",
    "        verdict_text = completion.choices[0].message.content\n",
    "\n",
    "        if '[[A]]' in verdict_text:\n",
    "            a_cnt += 1\n",
    "        elif '[[B]]' in verdict_text:\n",
    "            b_cnt += 1\n",
    "        else :\n",
    "            print(\"Evaluation Error\")\n",
    "    return a_cnt, b_cnt, draw_cnt\n",
    "\n",
    "wins, loses, ties = pairwise_eval_batch(reviews, summaries_baseline, [summary_real_20241030]*eval_count)\n",
    "print(f\"wins: {wins}, Loses: {loses}, Ties: {ties}\")"
   ]
  },
  {
   "cell_type": "code",
   "execution_count": 22,
   "metadata": {},
   "outputs": [
    {
     "name": "stderr",
     "output_type": "stream",
     "text": [
      "100%|██████████| 10/10 [00:51<00:00,  5.16s/it]"
     ]
    },
    {
     "name": "stdout",
     "output_type": "stream",
     "text": [
      "Wins: 4, Losses: 6, Ties: 0\n"
     ]
    },
    {
     "name": "stderr",
     "output_type": "stream",
     "text": [
      "\n"
     ]
    }
   ],
   "source": [
    "## 고도화: 조건 명시\n",
    "\n",
    "prompt = f\"\"\"당신은 요약 전문가입니다. 사용자 숙소 리뷰들이 주어졌을 때 요약하는 것이 당신의 목표입니다.\n",
    "\n",
    "요약 결과는 다음 조건들을 충족해야 합니다:\n",
    "1. 모든 문장은 항상 존댓말로 끝나야 합니다.\n",
    "2. 숙소에 대해 소개하는 톤앤매너로 작성해주세요.\n",
    "  2-1. 좋은 예시\n",
    "    a) 전반적으로 좋은 숙소였고 방음도 괜찮았다는 평입니다.\n",
    "    b) 재방문 예정이라는 평들이 존재합니다.\n",
    "  2-2. 나쁜 예시\n",
    "    a) 좋은 숙소였고 방음도 괜찮았습니다.\n",
    "    b) 재방문 예정입니다.\n",
    "3. 요약 결과는 최소 2문장, 최대 5문장 사이로 작성해주세요.\n",
    "    \n",
    "아래 숙소 리뷰들에 대해 요약해주세요:\"\"\"\n",
    "\n",
    "eval_count = 10\n",
    "summaries = [summarize(reviews, prompt, temperature=1.0).choices[0].message.content for _ in range(eval_count)]\n",
    "wins, losses, ties = pairwise_eval_batch(reviews, summaries, [summary_real_20241030 for _ in range(len(summaries))])\n",
    "print(f'Wins: {wins}, Losses: {losses}, Ties: {ties}')"
   ]
  },
  {
   "cell_type": "code",
   "execution_count": 23,
   "metadata": {},
   "outputs": [
    {
     "name": "stderr",
     "output_type": "stream",
     "text": [
      "100%|██████████| 10/10 [00:49<00:00,  4.91s/it]"
     ]
    },
    {
     "name": "stdout",
     "output_type": "stream",
     "text": [
      "Wins: 3, Losses: 7, Ties: 0\n"
     ]
    },
    {
     "name": "stderr",
     "output_type": "stream",
     "text": [
      "\n"
     ]
    }
   ],
   "source": [
    "## 고도화 : 입력 데이터 품질 증가\n",
    "\n",
    "def preprocess_reviews(path='./res/jeju_marevo.json'):\n",
    "    with open(path, 'r', encoding='utf-8') as f:\n",
    "        review_list = json.load(f)\n",
    "\n",
    "    reviews_good, reviews_bad = [], []\n",
    "\n",
    "    current_date = datetime.datetime.now()\n",
    "    date_boundary = current_date - datetime.timedelta(days=6*30)\n",
    "\n",
    "    for review in review_list:\n",
    "        review_date_str = review['date']\n",
    "        try:\n",
    "            review_date = parser.parse(review_date_str)\n",
    "        except (ValueError, TypeError):\n",
    "            review_date = current_date\n",
    "\n",
    "        if review_date < date_boundary:\n",
    "            continue\n",
    "        if len(review['review']) < 30:\n",
    "            continue\n",
    "        if review['stars']==5:\n",
    "            reviews_good.append('[REVIEW_START]' + review['review'] + '[REVIEW_END]')\n",
    "        else:\n",
    "            reviews_bad.append('[REVIEW_START]' + review['review'] + '[REVIEW_END]')\n",
    "\n",
    "    reviews_good_text = '\\n'.join(reviews_good)\n",
    "    reviews_bad_text = '\\n'.join(reviews_bad)\n",
    "\n",
    "    return reviews_good_text, reviews_bad_text\n",
    "\n",
    "eval_count = 10\n",
    "summaries = [summarize(reviews, prompt, temperature=1.0).choices[0].message.content for _ in range(eval_count)]\n",
    "wins, losses, ties = pairwise_eval_batch(reviews, summaries, [summary_real_20241030 for _ in range(len(summaries))])\n",
    "print(f'Wins: {wins}, Losses: {losses}, Ties: {ties}')"
   ]
  },
  {
   "cell_type": "code",
   "execution_count": null,
   "metadata": {},
   "outputs": [
    {
     "name": "stdout",
     "output_type": "stream",
     "text": [
      "전반적으로 숙소는 청결하고 편안한 침구로 힐링하기 좋다는 평이 많습니다. 조식이 맛있고 가성비가 좋다는 리뷰가 다수 있으며, 직원들의 친절함도 돋보입니다. 다만, 에어컨 작동 문제나 지하철 접근성 등 일부 아쉬운 점도 언급되었습니다. 주변에 식당가와 편의시설이 많아 편리하게 이용할 수 있다는 점도 장점으로 꼽힙니다.\n"
     ]
    }
   ],
   "source": [
    "## 1-shot\n",
    "\n",
    "reviews_1shot, _= preprocess_reviews(path=\"./res/shillastay_Yeoksam.json\")\n",
    "summary_1shot = summarize(reviews_1shot, prompt, temperature=0.0, model='gpt-4o-2024-05-13').choices[0].message.content\n",
    "\n",
    "print(summary_1shot)"
   ]
  },
  {
   "cell_type": "code",
   "execution_count": null,
   "metadata": {},
   "outputs": [
    {
     "name": "stderr",
     "output_type": "stream",
     "text": [
      "100%|██████████| 10/10 [00:44<00:00,  4.45s/it]"
     ]
    },
    {
     "name": "stdout",
     "output_type": "stream",
     "text": [
      "Wins: 2, Losses: 8, Ties: 0\n"
     ]
    },
    {
     "name": "stderr",
     "output_type": "stream",
     "text": [
      "\n"
     ]
    },
    {
     "ename": "",
     "evalue": "",
     "output_type": "error",
     "traceback": [
      "\u001b[1;31mThe Kernel crashed while executing code in the current cell or a previous cell. \n",
      "\u001b[1;31mPlease review the code in the cell(s) to identify a possible cause of the failure. \n",
      "\u001b[1;31mClick <a href='https://aka.ms/vscodeJupyterKernelCrash'>here</a> for more info. \n",
      "\u001b[1;31mView Jupyter <a href='command:jupyter.viewOutput'>log</a> for further details."
     ]
    }
   ],
   "source": [
    "prompt_1shot = f\"\"\"당신은 요약 전문가입니다. 사용자 숙소 리뷰들이 주어졌을 때 요약하는 것이 당신의 목표입니다.\n",
    "\n",
    "요약 결과는 다음 조건들을 충족해야 합니다:\n",
    "1. 모든 문장은 항상 존댓말로 끝나야 합니다.\n",
    "2. 숙소에 대해 소개하는 톤앤매너로 작성해주세요.\n",
    "  2-1. 좋은 예시\n",
    "    a) 전반적으로 좋은 숙소였고 방음도 괜찮았다는 평입니다.\n",
    "    b) 재방문 예정이라는 평들이 존재합니다.\n",
    "  2-2. 나쁜 예시\n",
    "    a) 좋은 숙소였고 방음도 괜찮았습니다.\n",
    "    b) 재방문 예정입니다.\n",
    "3. 요약 결과는 최소 2문장, 최대 5문장 사이로 작성해주세요.\n",
    "\n",
    "다음은 리뷰들과 요약 예시입니다.\n",
    "예시 리뷰들:\n",
    "{reviews_1shot}\n",
    "예시 요약 결과:\n",
    "{summary_1shot}\n",
    "    \n",
    "아래 숙소 리뷰들에 대해 요약해주세요:\"\"\"\n",
    "\n",
    "summaries = [summarize(reviews, prompt_1shot, temperature=1.0, model='gpt-3.5-turbo-0125').choices[0].message.content for _ in range(eval_count)]\n",
    "wins, losses, ties = pairwise_eval_batch(reviews, summaries, [summary_real_20241030 for _ in range(len(summaries))])\n",
    "print(f'Wins: {wins}, Losses: {losses}, Ties: {ties}')"
   ]
  },
  {
   "cell_type": "code",
   "execution_count": null,
   "metadata": {},
   "outputs": [
    {
     "name": "stdout",
     "output_type": "stream",
     "text": [
      "전반적으로 숙소는 청결하고 편안한 침구로 힐링하기 좋은 곳이라는 평입니다. 조식이 맛있고 가성비가 좋다는 리뷰가 많으며, 직원들의 친절함도 돋보입니다. 다만, 에어컨 작동 문제나 지하철 접근성 등 일부 아쉬운 점도 언급되었습니다. 주변에 식당가와 편의시설이 많아 편리하게 이용할 수 있다는 점도 장점으로 꼽힙니다.\n",
      "신라스테이 서대문은 역에서 매우 가까운 위치에 있어 교통이 편리하다는 평이 많습니다. 직원들의 친절함과 깔끔한 객실 상태도 많은 고객들이 언급하고 있습니다. 다만, 일부 고객들은 청결 상태와 방음에 아쉬움을 표하기도 했습니다. 조식 메뉴가 다양하고 맛있다는 긍정적인 평가도 있으며, 주차 관련 안내도 잘 되어 있어 편리하다는 의견이 있습니다. 전반적으로 접근성과 서비스 면에서 좋은 평가를 받고 있는 숙소입니다.\n"
     ]
    }
   ],
   "source": [
    "## 2-shot\n",
    "\n",
    "reviews_1shot, _= preprocess_reviews(path=\"./res/shillastay_Yeoksam.json\")\n",
    "summary_1shot = summarize(reviews_1shot, prompt, temperature=0.0, model='gpt-4o-2024-05-13').choices[0].message.content\n",
    "\n",
    "print(summary_1shot)\n",
    "\n",
    "reviews_2shot, _= preprocess_reviews(path=\"./res/shillastay_Seodaemun.json\")\n",
    "summary_2shot = summarize(reviews_2shot, prompt, temperature=0.0, model='gpt-4o-2024-05-13').choices[0].message.content\n",
    "\n",
    "print(summary_2shot)"
   ]
  },
  {
   "cell_type": "code",
   "execution_count": 29,
   "metadata": {},
   "outputs": [
    {
     "name": "stderr",
     "output_type": "stream",
     "text": [
      "100%|██████████| 10/10 [00:41<00:00,  4.14s/it]"
     ]
    },
    {
     "name": "stdout",
     "output_type": "stream",
     "text": [
      "Wins: 2, Losses: 8, Ties: 0\n"
     ]
    },
    {
     "name": "stderr",
     "output_type": "stream",
     "text": [
      "\n"
     ]
    }
   ],
   "source": [
    "prompt_2shot = f\"\"\"당신은 요약 전문가입니다. 사용자 숙소 리뷰들이 주어졌을 때 요약하는 것이 당신의 목표입니다.\n",
    "\n",
    "요약 결과는 다음 조건들을 충족해야 합니다:\n",
    "1. 모든 문장은 항상 존댓말로 끝나야 합니다.\n",
    "2. 숙소에 대해 소개하는 톤앤매너로 작성해주세요.\n",
    "  2-1. 좋은 예시\n",
    "    a) 전반적으로 좋은 숙소였고 방음도 괜찮았다는 평입니다.\n",
    "    b) 재방문 예정이라는 평들이 존재합니다.\n",
    "  2-2. 나쁜 예시\n",
    "    a) 좋은 숙소였고 방음도 괜찮았습니다.\n",
    "    b) 재방문 예정입니다.\n",
    "3. 요약 결과는 최소 2문장, 최대 5문장 사이로 작성해주세요.\n",
    "\n",
    "다음은 리뷰들과 요약 예시입니다.\n",
    "예시 리뷰들:\n",
    "{reviews_1shot}\n",
    "예시 요약 결과:\n",
    "{summary_1shot}\n",
    "\n",
    "예시 리뷰들:\n",
    "{reviews_2shot}\n",
    "예시 요약 결과:\n",
    "{summary_2shot}\n",
    "    \n",
    "아래 숙소 리뷰들에 대해 요약해주세요:\"\"\"\n",
    "\n",
    "summaries = [summarize(reviews, prompt_2shot, temperature=1.0, model='gpt-3.5-turbo-0125').choices[0].message.content for _ in range(eval_count)]\n",
    "wins, losses, ties = pairwise_eval_batch(reviews, summaries, [summary_real_20241030 for _ in range(len(summaries))])\n",
    "print(f'Wins: {wins}, Losses: {losses}, Ties: {ties}')"
   ]
  }
 ],
 "metadata": {
  "kernelspec": {
   "display_name": ".venv",
   "language": "python",
   "name": "python3"
  },
  "language_info": {
   "codemirror_mode": {
    "name": "ipython",
    "version": 3
   },
   "file_extension": ".py",
   "mimetype": "text/x-python",
   "name": "python",
   "nbconvert_exporter": "python",
   "pygments_lexer": "ipython3",
   "version": "3.12.6"
  }
 },
 "nbformat": 4,
 "nbformat_minor": 2
}
