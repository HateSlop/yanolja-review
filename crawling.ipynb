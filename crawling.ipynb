{
 "cells": [
  {
   "cell_type": "code",
   "execution_count": 1,
   "metadata": {},
   "outputs": [],
   "source": [
    "import json\n",
    "import time\n",
    "import sys\n",
    "import requests\n",
    "import pandas as pd\n",
    "from bs4 import BeautifulSoup\n",
    "from selenium import webdriver"
   ]
  },
  {
   "cell_type": "code",
   "execution_count": 2,
   "metadata": {},
   "outputs": [],
   "source": [
    "# 셀레눔 드라이버와 스크롤 횟수를 받아서 스크롤을 내리는 함수 \n",
    "def scroll_page(driver, scroll_count):  # 스크롤 횟수만큼 스크롤을 내림\n",
    "    for _ in range(scroll_count):\n",
    "        driver.execute_script('window.scrollTo(0, document.body.scrollHeight);')\n",
    "        time.sleep(2)"
   ]
  },
  {
   "cell_type": "code",
   "execution_count": 16,
   "metadata": {},
   "outputs": [],
   "source": [
    "def extract_reviews(html):\n",
    "    soup = BeautifulSoup(html, 'html.parser')\n",
    "    items = soup.select(\".review-item-container\")\n",
    "    data = []\n",
    "\n",
    "    for item in items:\n",
    "        if item:\n",
    "            # 별점 추출\n",
    "            review_point = len(item.find_all('path', attrs={'fill': '#FDBD00'}))\n",
    "            \n",
    "            # 리뷰 텍스트 추출\n",
    "            review_text = item.select_one(\".content-text.css-c92dc4\").text.strip()\n",
    "\n",
    "            # 리뷰 날짜 추출 (선택자 변경: css-1irbwe1)\n",
    "            date_element = item.select_one(\"p.css-1irbwe1\")\n",
    "            review_date = date_element.text.strip() if date_element else \"날짜 정보 없음\"\n",
    "\n",
    "            # JSON 형식에 맞게 딕셔너리 추가\n",
    "            data.append({\n",
    "                \"review\": review_text,\n",
    "                \"stars\": review_point,\n",
    "                \"date\": review_date\n",
    "            })\n",
    "    return data"
   ]
  },
  {
   "cell_type": "code",
   "execution_count": 17,
   "metadata": {},
   "outputs": [],
   "source": [
    "# 리뷰를 엑셀 및 JSON으로 저장하는 함수\n",
    "def save_reviews(name, review_list): \n",
    "    # 엑셀로 저장\n",
    "    df = pd.DataFrame(review_list)\n",
    "    df_unique = df.drop_duplicates()\n",
    "    df_unique.to_excel(f\"yanolja-review\\\\review_list_{name}.xlsx\", index=False)\n",
    "    \n",
    "    # JSON으로 저장\n",
    "    with open(f\"yanolja-review\\\\review_list_{name}.json\", 'w', encoding='utf-8') as json_file:\n",
    "        json.dump(review_list, json_file, ensure_ascii=False, indent=4)\n",
    "    return"
   ]
  },
  {
   "cell_type": "code",
   "execution_count": 18,
   "metadata": {},
   "outputs": [],
   "source": [
    "def crawl_yanolja_reviews(name, url):\n",
    "    # 드라이버 \n",
    "    driver = webdriver.Chrome()\n",
    "    driver.get(url)\n",
    "    time.sleep(3)\n",
    "\n",
    "    # 스크롤 횟수\n",
    "    scroll_count = 20\n",
    "    # 스크롤 내리기 함수 실행\n",
    "    scroll_page(driver, scroll_count)\n",
    "\n",
    "    # 리뷰 추출\n",
    "    html = driver.page_source\n",
    "    # 리뷰 추출 함수 실행\n",
    "    review_list = extract_reviews(html)\n",
    "\n",
    "    # 리뷰 저장 함수 실행 \n",
    "    save_reviews(name, review_list)\n",
    "    driver.quit()"
   ]
  },
  {
   "cell_type": "code",
   "execution_count": 19,
   "metadata": {},
   "outputs": [],
   "source": [
    "if __name__ == '__main__':\n",
    "    name=\"리치몬드 호텔 텐진 니시-도리\"\n",
    "    url=\"https://www.yanolja.com/reviews/global/2513843\"\n",
    "    crawl_yanolja_reviews(name=name, url=url)"
   ]
  },
  {
   "cell_type": "code",
   "execution_count": null,
   "metadata": {},
   "outputs": [],
   "source": []
  }
 ],
 "metadata": {
  "kernelspec": {
   "display_name": "tf210",
   "language": "python",
   "name": "python3"
  },
  "language_info": {
   "codemirror_mode": {
    "name": "ipython",
    "version": 3
   },
   "file_extension": ".py",
   "mimetype": "text/x-python",
   "name": "python",
   "nbconvert_exporter": "python",
   "pygments_lexer": "ipython3",
   "version": "3.9.18"
  }
 },
 "nbformat": 4,
 "nbformat_minor": 2
}
