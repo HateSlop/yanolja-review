{
 "cells": [
  {
   "cell_type": "code",
   "execution_count": 4,
   "metadata": {},
   "outputs": [
    {
     "name": "stdout",
     "output_type": "stream",
     "text": [
      "{'review': '친정엄마와 딸과 좋은숙소에서 행복한 추억만들고왔어요.친절하고 깨끗하고단정하고\\n3번째방문인데 항상 좋아요.', 'stars': 5, 'date': '2024.04.27'}\n"
     ]
    }
   ],
   "source": [
    "import json\n",
    "\n",
    "with open('review_신라스테이 해운대.json', 'r', encoding='utf-8') as f:\n",
    "    review_list = json.load(f)\n",
    "\n",
    "print(review_list[1])\n",
    "\n"
   ]
  },
  {
   "cell_type": "code",
   "execution_count": 5,
   "metadata": {},
   "outputs": [
    {
     "data": {
      "text/plain": [
       "(271, 149)"
      ]
     },
     "execution_count": 5,
     "metadata": {},
     "output_type": "execute_result"
    }
   ],
   "source": [
    "good_cnt, bad_cnt = 0,0\n",
    "for review in review_list:\n",
    "    if review['stars'] == 5:\n",
    "        good_cnt += 1\n",
    "    else:\n",
    "        bad_cnt += 1\n",
    "\n",
    "good_cnt, bad_cnt"
   ]
  },
  {
   "cell_type": "code",
   "execution_count": 7,
   "metadata": {},
   "outputs": [
    {
     "data": {
      "text/plain": [
       "['[REVIEW_START]생긴지 좀 된곳이라 화장실쪽은 살짝 더럽긴한데\\n어쩔 수 없는듯! 걍 무난하게 잠 자기 딱 좋은곳!!!!\\n씨티뷰인데 앞에 모텔(?)같은 건물들이 있어서\\n어짜피 잠만 자는 곳이라 그냥저냥 괜찮았어요!!!\\n신라스테이 해운대 2번째 이용하고 있는데\\n가족끼리 가기 딱 좋은곳이예요~👍👍\\n중식 50%할인이라 먹었는데 50%할인 안했으면\\n솔직히 먹기엔 아까운듯~\\n다음에 부산 해운대가게 되도 이용할거 같아용[REVIEW_END]',\n",
       " '[REVIEW_START]숙소 깨끗하고 오션뷰 전망은 아주 만족스럽습니다.\\n전반적으로 갖추어야할 시설들은 다 있습니다.(존재에 의의를 두는 정도)\\n바다 바로 건너편에 숙소가 있고, 주변에 먹을거리도 많아서 좋았습니다.[REVIEW_END]',\n",
       " '[REVIEW_START]오션뷰로 전망이 아주 좋았습니다~ \\n침구류,베드 편안했구요~\\n화장실문이 꼭 안닫아지고 fan이 없어서(혹시 있었는데 못킨것일수도 있지만) 좀 불편했어요\\n어매니티제품은 사용방법이 불편하고 품질이 좋 지는 않아서 아쉬웠어요 \\n그래도 더운물은 잘 나왔어요~[REVIEW_END]']"
      ]
     },
     "execution_count": 7,
     "metadata": {},
     "output_type": "execute_result"
    }
   ],
   "source": [
    "reviews_good, reviews_bad = [], []\n",
    "\n",
    "for review in review_list:\n",
    "    if review['stars'] == 5:\n",
    "        reviews_good.append('[REVIEW_START]' + review['review'] + '[REVIEW_END]')\n",
    "    else:\n",
    "        reviews_bad.append('[REVIEW_START]' + review['review'] + '[REVIEW_END]')\n",
    "\n",
    "reviews_bad[:3]"
   ]
  },
  {
   "cell_type": "code",
   "execution_count": 9,
   "metadata": {},
   "outputs": [
    {
     "data": {
      "text/plain": [
       "6061"
      ]
     },
     "execution_count": 9,
     "metadata": {},
     "output_type": "execute_result"
    }
   ],
   "source": [
    "import datetime\n",
    "from dateutil import parser\n",
    "\n",
    "def preprocess_reviews(path='./res/reviews.json'):\n",
    "    with open(path, 'r', encoding='utf-8') as f:\n",
    "        review_list = json.load(f)\n",
    "    \n",
    "    reviews_good, reviews_bad = [], []\n",
    "\n",
    "    current_date = datetime.datetime.now()\n",
    "    date_boundary = current_date - datetime.timedelta(days=6*30)\n",
    "\n",
    "    for review in review_list:\n",
    "        review_date_str = review['date']\n",
    "        try:\n",
    "            review_date = parser.parse(review_date_str)\n",
    "        except (ValueError, TypeError):\n",
    "            review_date = current_date\n",
    "        \n",
    "        if review_date < date_boundary:\n",
    "            continue\n",
    "        if review['stars'] == 5:\n",
    "            reviews_good.append('[REVIEW_START]' + review['review'] + '[REVIEW_END]')\n",
    "        else:\n",
    "            reviews_bad.append('[REVIEW_START]' + review['review'] + '[REVIEW_END]')\n",
    "    \n",
    "    review_good_text = '\\n'.join(reviews_good)\n",
    "    review_bad_text = '\\n'.join(reviews_bad)\n",
    "\n",
    "    return review_good_text, review_bad_text\n",
    "\n",
    "good, bad = preprocess_reviews(\"review_신라스테이 해운대.json\")\n",
    "good[:100]\n",
    "len(good)"
   ]
  },
  {
   "cell_type": "code",
   "execution_count": 6,
   "metadata": {},
   "outputs": [
    {
     "data": {
      "text/plain": [
       "'[REVIEW_START]이번에 급하게 부산여행을 계획하게되어서 다녀왔는데 신상호텔이라 그런지 더욱 깔끔하고 쾌적한 컨디션이라 편하게 즐기다 왔습니다 ! 루프탑 풀의 경우는 풀패키지상품 구매해야지만 이용할 수 있어서 이번에는 못가봤지만 다음에는 꼭 이용해보고 싶어요!\\n그래도 해운대 해수욕장에서 3분 거리인 진짜 바로 코앞이라 위치가 너무 좋았구요\\n타운오션뷰였는데 창 밖으로 해수욕장의 중앙이 딱 보여서 쇼파테이블에 앉아서 보고있으니 덕분에 안에서 시원하게 피서 즐기는 것 같아 너무 좋았습니다.\\n그리고 상품에 조식이 포함된 조식 패키지 상품이였는데 조식 음식들도 다양하게 구성되어있어서 너무 만족스러웠습니다 ! 특히 돼지국밥 스페셜 메뉴 너무 신박해용😆\\n오픈 기념으로 8월까지 무료 미니바 제공도 해주셔서 알차고 편하게 즐기다 올 수 있었습니다~![REVIEW_END]\\n[REVIEW_START]일단 숙소입고 바로 오른쪽에 맥도날드 있구요! 맞은편 건물에 타이마사지 있고 1분거리에 해운대 해수욕장 입니다! 오션뷰로 하면 최고구요! 룸컨디션도 좋고! 장기투숙하고 싶다 라능 생각을 했어요! 그정도로 만족! 조식도 좋았고~! 해운대전통시장도 걸어서 5분거리라! 정말 만족입니다! 위치상 정말 좋구요! 주차도 편했고! 응대도 완전 친절하셨습니다! 다음에도 부산 가면 여기 묶을 거예요!![REVIEW_END]\\n[REVIEW_START]부산 방문시 급하게 예약한 호텔인데 너무 만족스러워요^^\\n새롭게 오픈한지 얼마 안되어서 전반적으로 깔끔하고 고객응대도 친절해서 좋았던 기억뿐이네요^^\\n전기차 충전시설도 있고(완속1, 급속1)\\n주변이 워낙 번화가라 먹을거리도 많구요\\n앞으로 해운대 갈 일 있으면 여기로 방문해야겠어요~👍🏻[REVIEW_END]\\n[REVIEW_START]비교적 고층 타운뷰 룸에서 보낸 오픈 첫날\\r\\n컨시어지 서비스도 좋았고 입주 청소 끝난 새 집인 듯 좋았습니다\\r\\n다만, 복도는 베이크 아웃이 덜 됐는지 조금 힘들었고 세븐 일레븐만 있는 1층 공실에 카페가 입점하면 좋을 거 같습니다[REVIEW_END]\\n[REVIEW_START]오픈한지 얼마 안된 호텔이라 너무 깨끗하고 직원들도 너무 친절하고 너무 좋아오! \\r\\n남자친구 생일 기념으로 처음으로 둘이 해운대 놀러갔는데 조식도 너무 진짜 생각이상이였고 너무 좋았습니다!! 다음에 또 갈 생각이예요!![REVIEW_END]\\n[REVIEW_START]해운대 해수욕장과 아주 가깝고 수영장도 좋습니다\\n생기지 얼마 안돼서 그런지 객실 상태도 깔끔하고 직원분들도 매우 친절하셨습니다[REVIEW_END]\\n[REVIEW_START]위치가 해운대 시장 메인라인 근처라 참 좋고\\n주변에 먹거리도 많아 좋습니다.\\n주차는 공간이 많지 않아 아쉬웠음\\n뷰 기대안하고 해운대라는 위치에 집중하면\\n나름 좋은 호텔[REVIEW_END]\\n[REVIEW_START]해운대메인에 위치하고 바다와도 무지무지 가까워요! ㅎ 수영장도 자유롭게 이용할수 있고 1층에 편의점도 있어서 너무 편리해요^^ 앞으로 해운대갈때는 L7만 이용할것 같아요 ㅎ 너무너무 만족하고 즐거운 여행했습니다[REVIEW_END]\\n[REVIEW_START]시설이 깨끗하고 직원분들도 친절했습니다.\\n해수욕장도 가까워서 좋았습니다.\\n내년에도 가게되면 또갈께요.[REVIEW_END]\\n[REVIEW_START]가족들이랑갔는데 숙소가 괞찬았습니다\\n타운오션뷰였는데 슈베리어 사이드뷰로 객실업그레이드 해주셔서 해운대도 잘보여서 좋았습니다[REVIEW_END]\\n[REVIEW_START]시설도 깔끔하고 직원분들이 너무 친절하셔서\\r\\n잘 쉬다가 갑니다!\\r\\n부산에 온다면 다음에도 이곳에 오겠습니다.[REVIEW_END]\\n[REVIEW_START]사진에 보이는건 슈페이러 퀸 타운오션뷰 객실이고,\\r\\n2박 연속으로 투숙했습니다.\\r\\n\\r\\n1211호 객실을 배정받았고 앞에 건물이 있어서 그런지\\r\\n바다 뷰는 상당히 아쉽긴 했습니다.\\r\\n\\r\\n슈페리어 객실에 욕조가 없어서 조금 아쉬웠고\\r\\n화장실과 거실이 분리가 되어있지 않는 구조라 커플들이 이용하기에는 개인적으로 불편했습니다.\\r\\n\\r\\n1박을 하고 객실 청소와 물품을 추가 구비요청을 하니\\r\\n정말 빠르게 도와주셨고, 청소 또한 아주 마음에 들었습니다. \\r\\n체크인시 셀프체크인도 잘 이루워져있고 프론트 \\r\\n직원분들도 24시 운영되는만큼, 정말 친절했습니다.\\r\\n\\r\\n다만 레이트체크아웃과 수영장은 당일에 추가가 안된다고 하는점은 매우 아쉬웠네요. \\r\\n\\r\\n새로 오픈한지 얼마 되지 않아서 그런지 객실 복도나 프론트에 새거 냄새가 심하게 나더군요, 다만 덕분에 인테리어나 의자, 책상 다양한 물품은 전부 새거라서 좋았습니다. \\r\\n\\r\\n3층 프론트 옆에 무료 물품보관함이 있어서 짐 맡기기 정말 좋았구요, 락커수도 많아서 넉넉하게 좋았습니다.\\r\\n\\r\\n해운대를 재방문시 다시 재방문할지는 고민 입니다만\\r\\n만약 투숙하더라도 슈페이러 퀸 보다는 화장실과 거실이 분리되어 있는 객실을 선택할 것 같네요.\\r\\n\\r\\n 오픈한 지 얼마 안 되고 직원분들과 객실 정비가 잘 된다는 점에서는 정말 마음에 든 호텔이었습니다.[REVIEW_END]\\n[REVIEW_START]해운대에 새로 생긴 호텔이 L7이라고해서 바로 예약해서 다녀왔어요! 이름이 있는 호텔인만큼 전체적으로 서비스가 좋았고, 새건물이라서 다 깔끔했어요😊 저는 조식이 포함되어있는 옵션을 선택했기 때문에 수영장은 포함되어있지 않았는데, 수영장도 사람이 몰리지 않도록 4부제로 운영하는 점이 좋았기 때문에 나중에 방문하게 된다면 수영장을 이용해보고 싶네요! 조식 퀄리티도 괜찮은 편이었고, 돼지국밥도 있어서 아침에 든든하게 국밥도 먹을 수 있었어요! 다른 곳과 다르게 조식을 먹는 곳의 뷰가 특별하지는 않지만, 그래도 만족스럽게 먹고 아침을 시작할 수 있었어요😊 부대시설도 좋고, 자유롭게 짐보관을 할 수 있는 점도 좋았어요! 한가지 아쉬운 점이 있다면, 새건물이라서 지금 새건물 냄새가 정말 심해요😭 방 안으로 들어가면 새건물 냄새가 확 느껴지는데, 시간이 해결해줄 문제라고 생각하기에 다음에 또 다시 방문할 의향 있어요! 편안하게 잘 쉬디가 갑니다❤️[REVIEW_END]\\n[REVIEW_START]주말이었으나 방간 소음이 느껴지지 않았음.\\n방이 매우 청결하고 가격에 비해 방의 넓이가 넓었음[REVIEW_END]\\n[REVIEW_START]사이드 오션뷰로 업그레이드 받았는데 일단 숙소 상태 깔끔하고, 바다도 잘보이고, 냄새에 민감한 편이지만 새거 냄새는 제가 갔을 때는 별로 잘안느껴져서 좋았습니다! 침대는 푹신한건 아닌데 딱 잠자기 좋은 평평한 느낌이었어요!! \\r\\n조식도 맛있었는데 웨이팅 발생할수도 있으니 일찍 여유롭게 가시는 걸 추천드려요![REVIEW_END]\\n[REVIEW_START]위치좋고 조식도 괜찮았어요.\\r\\n복도 냄새가 좀 심해서 힘들었고\\r\\n3인방 했는데\\r\\n키가 한개라 불편했어요.\\r\\n서비스는 친절했어요[REVIEW_END]\\n[REVIEW_START]숙박후 호텔에서 제공하는 서베이에 참여했는데, 개별적인 메시지를 주셨습니다. 섬세하게 고객 관리를 하는구나 생각했어요.[REVIEW_END]\\n[REVIEW_START]엘리베이터 고장으로 타는데까지 너무 오래걸렸어요.\\n수리중이면 안내를 좀 해주는게 좋을 것 같아요.\\n그래도 퇴실때여서 그나마 좀 나았네요.\\n그 외에는 룸 업그레이드되면서 1베드가아닌 싱글 2베트여서 조금 당황스럽기는 했는데 편하게 잘 잤네요~[REVIEW_END]\\n[REVIEW_START]청결하고 진절하고 서비스도 괜찮아요 깨끗해요[REVIEW_END]\\n[REVIEW_START]신설이라 그런지 너무 깔끔하고 만족스러웠습니다~!\\n다음에 또 재방문 의사 있습니다.[REVIEW_END]\\n[REVIEW_START]실내가 아주 정리정돈 잘 되어있고 깨끗합니다~~ 사용하고 숙박하기 좋습니다[REVIEW_END]\\n[REVIEW_START]친절하시고, 모든게 좋았습니다. 수영장도 너무좋네요[REVIEW_END]\\n[REVIEW_START]직원분들 친절하시고 숙소도 깨끗 좋았습니다[REVIEW_END]\\n[REVIEW_START]뷰&서비스 최고에요!!![REVIEW_END]\\n[REVIEW_START]객실 깨끗하고 좋아요~[REVIEW_END]\\n[REVIEW_START]수영장 이용 너무 좋았고 숙소도 깔끔하고 좋았어요[REVIEW_END]\\n[REVIEW_START]시설이 깨끗하고 편안하게 숙박할 수 있었으며 해운대백사장과 가까워 좋았습니다[REVIEW_END]\\n[REVIEW_START]직원분들 다 친절하시구 신축이라 깔끔해서 너무 잘쉬다 왔습니다 정말 만족스러운 휴가였어요[REVIEW_END]\\n[REVIEW_START]깨끗하고 엄청좋아요[REVIEW_END]\\n[REVIEW_START]바다도 앞에있고 정말좋았습니다[REVIEW_END]\\n[REVIEW_START]바닷가 바로앞이라 편리합니다.[REVIEW_END]\\n[REVIEW_START]신축이라 깔끔하고 직원분도 친절하셨어요.객실 층에 얼음정수기가 있어 편하게 이용했습니다[REVIEW_END]\\n[REVIEW_START]깔끔 그자체 부산가면 여기 가야지[REVIEW_END]\\n[REVIEW_START]진짜 만족했어요!!! 다만 칫솔치약 이런 일회용이 없어서 불편했네요ㅜ[REVIEW_END]\\n[REVIEW_START]엄청 깨끗하고 친절하시고 간편한 체크인 체크아웃 할수 있어서 좋아요!![REVIEW_END]\\n[REVIEW_START]너무 깔끔하고 위치도 좋아요!![REVIEW_END]\\n[REVIEW_START]최고였어요 ㅎㅎ 조식까지 완벽[REVIEW_END]'"
      ]
     },
     "execution_count": 6,
     "metadata": {},
     "output_type": "execute_result"
    }
   ],
   "source": [
    "good"
   ]
  },
  {
   "cell_type": "code",
   "execution_count": 10,
   "metadata": {},
   "outputs": [],
   "source": [
    "PROMPT_BASELINE = f\"\"\"아래 숙소에 대해서 5문장 내로 요약해줘:\"\"\""
   ]
  },
  {
   "cell_type": "code",
   "execution_count": 11,
   "metadata": {},
   "outputs": [
    {
     "data": {
      "text/plain": [
       "True"
      ]
     },
     "execution_count": 11,
     "metadata": {},
     "output_type": "execute_result"
    }
   ],
   "source": [
    "from openai import OpenAI\n",
    "import os\n",
    "from dotenv import load_dotenv\n",
    "\n",
    "load_dotenv()\n"
   ]
  },
  {
   "cell_type": "code",
   "execution_count": 13,
   "metadata": {},
   "outputs": [
    {
     "ename": "RateLimitError",
     "evalue": "Error code: 429 - {'error': {'message': 'You exceeded your current quota, please check your plan and billing details. For more information on this error, read the docs: https://platform.openai.com/docs/guides/error-codes/api-errors.', 'type': 'insufficient_quota', 'param': None, 'code': 'insufficient_quota'}}",
     "output_type": "error",
     "traceback": [
      "\u001b[1;31m---------------------------------------------------------------------------\u001b[0m",
      "\u001b[1;31mRateLimitError\u001b[0m                            Traceback (most recent call last)",
      "Cell \u001b[1;32mIn[13], line 16\u001b[0m\n\u001b[0;32m      8\u001b[0m     completion \u001b[38;5;241m=\u001b[39m client\u001b[38;5;241m.\u001b[39mchat\u001b[38;5;241m.\u001b[39mcompletions\u001b[38;5;241m.\u001b[39mcreate(\n\u001b[0;32m      9\u001b[0m         model \u001b[38;5;241m=\u001b[39m model,\n\u001b[0;32m     10\u001b[0m         messages \u001b[38;5;241m=\u001b[39m [{\u001b[38;5;124m'\u001b[39m\u001b[38;5;124mrole\u001b[39m\u001b[38;5;124m'\u001b[39m: \u001b[38;5;124m'\u001b[39m\u001b[38;5;124muser\u001b[39m\u001b[38;5;124m'\u001b[39m, \u001b[38;5;124m'\u001b[39m\u001b[38;5;124mcontent\u001b[39m\u001b[38;5;124m'\u001b[39m: prompt}],\n\u001b[0;32m     11\u001b[0m         temperature\u001b[38;5;241m=\u001b[39mtemperature\n\u001b[0;32m     12\u001b[0m     )\n\u001b[0;32m     14\u001b[0m     \u001b[38;5;28;01mreturn\u001b[39;00m completion\n\u001b[1;32m---> 16\u001b[0m \u001b[38;5;28mprint\u001b[39m(\u001b[43msummarize\u001b[49m\u001b[43m(\u001b[49m\u001b[43mreviews\u001b[49m\u001b[43m,\u001b[49m\u001b[43m \u001b[49m\u001b[43mPROMPT_BASELINE\u001b[49m\u001b[43m)\u001b[49m\u001b[38;5;241m.\u001b[39mchoices[\u001b[38;5;241m0\u001b[39m]\u001b[38;5;241m.\u001b[39mmessage\u001b[38;5;241m.\u001b[39mcontent)\n",
      "Cell \u001b[1;32mIn[13], line 8\u001b[0m, in \u001b[0;36msummarize\u001b[1;34m(reviews, prompt, temperature, model)\u001b[0m\n\u001b[0;32m      5\u001b[0m \u001b[38;5;28;01mdef\u001b[39;00m \u001b[38;5;21msummarize\u001b[39m(reviews, prompt, temperature \u001b[38;5;241m=\u001b[39m \u001b[38;5;241m0.0\u001b[39m, model \u001b[38;5;241m=\u001b[39m \u001b[38;5;124m'\u001b[39m\u001b[38;5;124mgpt-3.5-turbo-0125\u001b[39m\u001b[38;5;124m'\u001b[39m):\n\u001b[0;32m      6\u001b[0m     prompt \u001b[38;5;241m=\u001b[39m prompt \u001b[38;5;241m+\u001b[39m\u001b[38;5;124m'\u001b[39m\u001b[38;5;130;01m\\n\u001b[39;00m\u001b[38;5;130;01m\\n\u001b[39;00m\u001b[38;5;124m'\u001b[39m \u001b[38;5;241m+\u001b[39mreviews\n\u001b[1;32m----> 8\u001b[0m     completion \u001b[38;5;241m=\u001b[39m \u001b[43mclient\u001b[49m\u001b[38;5;241;43m.\u001b[39;49m\u001b[43mchat\u001b[49m\u001b[38;5;241;43m.\u001b[39;49m\u001b[43mcompletions\u001b[49m\u001b[38;5;241;43m.\u001b[39;49m\u001b[43mcreate\u001b[49m\u001b[43m(\u001b[49m\n\u001b[0;32m      9\u001b[0m \u001b[43m        \u001b[49m\u001b[43mmodel\u001b[49m\u001b[43m \u001b[49m\u001b[38;5;241;43m=\u001b[39;49m\u001b[43m \u001b[49m\u001b[43mmodel\u001b[49m\u001b[43m,\u001b[49m\n\u001b[0;32m     10\u001b[0m \u001b[43m        \u001b[49m\u001b[43mmessages\u001b[49m\u001b[43m \u001b[49m\u001b[38;5;241;43m=\u001b[39;49m\u001b[43m \u001b[49m\u001b[43m[\u001b[49m\u001b[43m{\u001b[49m\u001b[38;5;124;43m'\u001b[39;49m\u001b[38;5;124;43mrole\u001b[39;49m\u001b[38;5;124;43m'\u001b[39;49m\u001b[43m:\u001b[49m\u001b[43m \u001b[49m\u001b[38;5;124;43m'\u001b[39;49m\u001b[38;5;124;43muser\u001b[39;49m\u001b[38;5;124;43m'\u001b[39;49m\u001b[43m,\u001b[49m\u001b[43m \u001b[49m\u001b[38;5;124;43m'\u001b[39;49m\u001b[38;5;124;43mcontent\u001b[39;49m\u001b[38;5;124;43m'\u001b[39;49m\u001b[43m:\u001b[49m\u001b[43m \u001b[49m\u001b[43mprompt\u001b[49m\u001b[43m}\u001b[49m\u001b[43m]\u001b[49m\u001b[43m,\u001b[49m\n\u001b[0;32m     11\u001b[0m \u001b[43m        \u001b[49m\u001b[43mtemperature\u001b[49m\u001b[38;5;241;43m=\u001b[39;49m\u001b[43mtemperature\u001b[49m\n\u001b[0;32m     12\u001b[0m \u001b[43m    \u001b[49m\u001b[43m)\u001b[49m\n\u001b[0;32m     14\u001b[0m     \u001b[38;5;28;01mreturn\u001b[39;00m completion\n",
      "File \u001b[1;32md:\\학교\\기타\\학회\\HateSlopStudy\\session-3\\yanolja-review\\.venv\\Lib\\site-packages\\openai\\_utils\\_utils.py:277\u001b[0m, in \u001b[0;36mrequired_args.<locals>.inner.<locals>.wrapper\u001b[1;34m(*args, **kwargs)\u001b[0m\n\u001b[0;32m    275\u001b[0m             msg \u001b[38;5;241m=\u001b[39m \u001b[38;5;124mf\u001b[39m\u001b[38;5;124m\"\u001b[39m\u001b[38;5;124mMissing required argument: \u001b[39m\u001b[38;5;132;01m{\u001b[39;00mquote(missing[\u001b[38;5;241m0\u001b[39m])\u001b[38;5;132;01m}\u001b[39;00m\u001b[38;5;124m\"\u001b[39m\n\u001b[0;32m    276\u001b[0m     \u001b[38;5;28;01mraise\u001b[39;00m \u001b[38;5;167;01mTypeError\u001b[39;00m(msg)\n\u001b[1;32m--> 277\u001b[0m \u001b[38;5;28;01mreturn\u001b[39;00m \u001b[43mfunc\u001b[49m\u001b[43m(\u001b[49m\u001b[38;5;241;43m*\u001b[39;49m\u001b[43margs\u001b[49m\u001b[43m,\u001b[49m\u001b[43m \u001b[49m\u001b[38;5;241;43m*\u001b[39;49m\u001b[38;5;241;43m*\u001b[39;49m\u001b[43mkwargs\u001b[49m\u001b[43m)\u001b[49m\n",
      "File \u001b[1;32md:\\학교\\기타\\학회\\HateSlopStudy\\session-3\\yanolja-review\\.venv\\Lib\\site-packages\\openai\\resources\\chat\\completions.py:590\u001b[0m, in \u001b[0;36mCompletions.create\u001b[1;34m(self, messages, model, frequency_penalty, function_call, functions, logit_bias, logprobs, max_tokens, n, presence_penalty, response_format, seed, stop, stream, stream_options, temperature, tool_choice, tools, top_logprobs, top_p, user, extra_headers, extra_query, extra_body, timeout)\u001b[0m\n\u001b[0;32m    558\u001b[0m \u001b[38;5;129m@required_args\u001b[39m([\u001b[38;5;124m\"\u001b[39m\u001b[38;5;124mmessages\u001b[39m\u001b[38;5;124m\"\u001b[39m, \u001b[38;5;124m\"\u001b[39m\u001b[38;5;124mmodel\u001b[39m\u001b[38;5;124m\"\u001b[39m], [\u001b[38;5;124m\"\u001b[39m\u001b[38;5;124mmessages\u001b[39m\u001b[38;5;124m\"\u001b[39m, \u001b[38;5;124m\"\u001b[39m\u001b[38;5;124mmodel\u001b[39m\u001b[38;5;124m\"\u001b[39m, \u001b[38;5;124m\"\u001b[39m\u001b[38;5;124mstream\u001b[39m\u001b[38;5;124m\"\u001b[39m])\n\u001b[0;32m    559\u001b[0m \u001b[38;5;28;01mdef\u001b[39;00m \u001b[38;5;21mcreate\u001b[39m(\n\u001b[0;32m    560\u001b[0m     \u001b[38;5;28mself\u001b[39m,\n\u001b[1;32m   (...)\u001b[0m\n\u001b[0;32m    588\u001b[0m     timeout: \u001b[38;5;28mfloat\u001b[39m \u001b[38;5;241m|\u001b[39m httpx\u001b[38;5;241m.\u001b[39mTimeout \u001b[38;5;241m|\u001b[39m \u001b[38;5;28;01mNone\u001b[39;00m \u001b[38;5;241m|\u001b[39m NotGiven \u001b[38;5;241m=\u001b[39m NOT_GIVEN,\n\u001b[0;32m    589\u001b[0m ) \u001b[38;5;241m-\u001b[39m\u001b[38;5;241m>\u001b[39m ChatCompletion \u001b[38;5;241m|\u001b[39m Stream[ChatCompletionChunk]:\n\u001b[1;32m--> 590\u001b[0m     \u001b[38;5;28;01mreturn\u001b[39;00m \u001b[38;5;28;43mself\u001b[39;49m\u001b[38;5;241;43m.\u001b[39;49m\u001b[43m_post\u001b[49m\u001b[43m(\u001b[49m\n\u001b[0;32m    591\u001b[0m \u001b[43m        \u001b[49m\u001b[38;5;124;43m\"\u001b[39;49m\u001b[38;5;124;43m/chat/completions\u001b[39;49m\u001b[38;5;124;43m\"\u001b[39;49m\u001b[43m,\u001b[49m\n\u001b[0;32m    592\u001b[0m \u001b[43m        \u001b[49m\u001b[43mbody\u001b[49m\u001b[38;5;241;43m=\u001b[39;49m\u001b[43mmaybe_transform\u001b[49m\u001b[43m(\u001b[49m\n\u001b[0;32m    593\u001b[0m \u001b[43m            \u001b[49m\u001b[43m{\u001b[49m\n\u001b[0;32m    594\u001b[0m \u001b[43m                \u001b[49m\u001b[38;5;124;43m\"\u001b[39;49m\u001b[38;5;124;43mmessages\u001b[39;49m\u001b[38;5;124;43m\"\u001b[39;49m\u001b[43m:\u001b[49m\u001b[43m \u001b[49m\u001b[43mmessages\u001b[49m\u001b[43m,\u001b[49m\n\u001b[0;32m    595\u001b[0m \u001b[43m                \u001b[49m\u001b[38;5;124;43m\"\u001b[39;49m\u001b[38;5;124;43mmodel\u001b[39;49m\u001b[38;5;124;43m\"\u001b[39;49m\u001b[43m:\u001b[49m\u001b[43m \u001b[49m\u001b[43mmodel\u001b[49m\u001b[43m,\u001b[49m\n\u001b[0;32m    596\u001b[0m \u001b[43m                \u001b[49m\u001b[38;5;124;43m\"\u001b[39;49m\u001b[38;5;124;43mfrequency_penalty\u001b[39;49m\u001b[38;5;124;43m\"\u001b[39;49m\u001b[43m:\u001b[49m\u001b[43m \u001b[49m\u001b[43mfrequency_penalty\u001b[49m\u001b[43m,\u001b[49m\n\u001b[0;32m    597\u001b[0m \u001b[43m                \u001b[49m\u001b[38;5;124;43m\"\u001b[39;49m\u001b[38;5;124;43mfunction_call\u001b[39;49m\u001b[38;5;124;43m\"\u001b[39;49m\u001b[43m:\u001b[49m\u001b[43m \u001b[49m\u001b[43mfunction_call\u001b[49m\u001b[43m,\u001b[49m\n\u001b[0;32m    598\u001b[0m \u001b[43m                \u001b[49m\u001b[38;5;124;43m\"\u001b[39;49m\u001b[38;5;124;43mfunctions\u001b[39;49m\u001b[38;5;124;43m\"\u001b[39;49m\u001b[43m:\u001b[49m\u001b[43m \u001b[49m\u001b[43mfunctions\u001b[49m\u001b[43m,\u001b[49m\n\u001b[0;32m    599\u001b[0m \u001b[43m                \u001b[49m\u001b[38;5;124;43m\"\u001b[39;49m\u001b[38;5;124;43mlogit_bias\u001b[39;49m\u001b[38;5;124;43m\"\u001b[39;49m\u001b[43m:\u001b[49m\u001b[43m \u001b[49m\u001b[43mlogit_bias\u001b[49m\u001b[43m,\u001b[49m\n\u001b[0;32m    600\u001b[0m \u001b[43m                \u001b[49m\u001b[38;5;124;43m\"\u001b[39;49m\u001b[38;5;124;43mlogprobs\u001b[39;49m\u001b[38;5;124;43m\"\u001b[39;49m\u001b[43m:\u001b[49m\u001b[43m \u001b[49m\u001b[43mlogprobs\u001b[49m\u001b[43m,\u001b[49m\n\u001b[0;32m    601\u001b[0m \u001b[43m                \u001b[49m\u001b[38;5;124;43m\"\u001b[39;49m\u001b[38;5;124;43mmax_tokens\u001b[39;49m\u001b[38;5;124;43m\"\u001b[39;49m\u001b[43m:\u001b[49m\u001b[43m \u001b[49m\u001b[43mmax_tokens\u001b[49m\u001b[43m,\u001b[49m\n\u001b[0;32m    602\u001b[0m \u001b[43m                \u001b[49m\u001b[38;5;124;43m\"\u001b[39;49m\u001b[38;5;124;43mn\u001b[39;49m\u001b[38;5;124;43m\"\u001b[39;49m\u001b[43m:\u001b[49m\u001b[43m \u001b[49m\u001b[43mn\u001b[49m\u001b[43m,\u001b[49m\n\u001b[0;32m    603\u001b[0m \u001b[43m                \u001b[49m\u001b[38;5;124;43m\"\u001b[39;49m\u001b[38;5;124;43mpresence_penalty\u001b[39;49m\u001b[38;5;124;43m\"\u001b[39;49m\u001b[43m:\u001b[49m\u001b[43m \u001b[49m\u001b[43mpresence_penalty\u001b[49m\u001b[43m,\u001b[49m\n\u001b[0;32m    604\u001b[0m \u001b[43m                \u001b[49m\u001b[38;5;124;43m\"\u001b[39;49m\u001b[38;5;124;43mresponse_format\u001b[39;49m\u001b[38;5;124;43m\"\u001b[39;49m\u001b[43m:\u001b[49m\u001b[43m \u001b[49m\u001b[43mresponse_format\u001b[49m\u001b[43m,\u001b[49m\n\u001b[0;32m    605\u001b[0m \u001b[43m                \u001b[49m\u001b[38;5;124;43m\"\u001b[39;49m\u001b[38;5;124;43mseed\u001b[39;49m\u001b[38;5;124;43m\"\u001b[39;49m\u001b[43m:\u001b[49m\u001b[43m \u001b[49m\u001b[43mseed\u001b[49m\u001b[43m,\u001b[49m\n\u001b[0;32m    606\u001b[0m \u001b[43m                \u001b[49m\u001b[38;5;124;43m\"\u001b[39;49m\u001b[38;5;124;43mstop\u001b[39;49m\u001b[38;5;124;43m\"\u001b[39;49m\u001b[43m:\u001b[49m\u001b[43m \u001b[49m\u001b[43mstop\u001b[49m\u001b[43m,\u001b[49m\n\u001b[0;32m    607\u001b[0m \u001b[43m                \u001b[49m\u001b[38;5;124;43m\"\u001b[39;49m\u001b[38;5;124;43mstream\u001b[39;49m\u001b[38;5;124;43m\"\u001b[39;49m\u001b[43m:\u001b[49m\u001b[43m \u001b[49m\u001b[43mstream\u001b[49m\u001b[43m,\u001b[49m\n\u001b[0;32m    608\u001b[0m \u001b[43m                \u001b[49m\u001b[38;5;124;43m\"\u001b[39;49m\u001b[38;5;124;43mstream_options\u001b[39;49m\u001b[38;5;124;43m\"\u001b[39;49m\u001b[43m:\u001b[49m\u001b[43m \u001b[49m\u001b[43mstream_options\u001b[49m\u001b[43m,\u001b[49m\n\u001b[0;32m    609\u001b[0m \u001b[43m                \u001b[49m\u001b[38;5;124;43m\"\u001b[39;49m\u001b[38;5;124;43mtemperature\u001b[39;49m\u001b[38;5;124;43m\"\u001b[39;49m\u001b[43m:\u001b[49m\u001b[43m \u001b[49m\u001b[43mtemperature\u001b[49m\u001b[43m,\u001b[49m\n\u001b[0;32m    610\u001b[0m \u001b[43m                \u001b[49m\u001b[38;5;124;43m\"\u001b[39;49m\u001b[38;5;124;43mtool_choice\u001b[39;49m\u001b[38;5;124;43m\"\u001b[39;49m\u001b[43m:\u001b[49m\u001b[43m \u001b[49m\u001b[43mtool_choice\u001b[49m\u001b[43m,\u001b[49m\n\u001b[0;32m    611\u001b[0m \u001b[43m                \u001b[49m\u001b[38;5;124;43m\"\u001b[39;49m\u001b[38;5;124;43mtools\u001b[39;49m\u001b[38;5;124;43m\"\u001b[39;49m\u001b[43m:\u001b[49m\u001b[43m \u001b[49m\u001b[43mtools\u001b[49m\u001b[43m,\u001b[49m\n\u001b[0;32m    612\u001b[0m \u001b[43m                \u001b[49m\u001b[38;5;124;43m\"\u001b[39;49m\u001b[38;5;124;43mtop_logprobs\u001b[39;49m\u001b[38;5;124;43m\"\u001b[39;49m\u001b[43m:\u001b[49m\u001b[43m \u001b[49m\u001b[43mtop_logprobs\u001b[49m\u001b[43m,\u001b[49m\n\u001b[0;32m    613\u001b[0m \u001b[43m                \u001b[49m\u001b[38;5;124;43m\"\u001b[39;49m\u001b[38;5;124;43mtop_p\u001b[39;49m\u001b[38;5;124;43m\"\u001b[39;49m\u001b[43m:\u001b[49m\u001b[43m \u001b[49m\u001b[43mtop_p\u001b[49m\u001b[43m,\u001b[49m\n\u001b[0;32m    614\u001b[0m \u001b[43m                \u001b[49m\u001b[38;5;124;43m\"\u001b[39;49m\u001b[38;5;124;43muser\u001b[39;49m\u001b[38;5;124;43m\"\u001b[39;49m\u001b[43m:\u001b[49m\u001b[43m \u001b[49m\u001b[43muser\u001b[49m\u001b[43m,\u001b[49m\n\u001b[0;32m    615\u001b[0m \u001b[43m            \u001b[49m\u001b[43m}\u001b[49m\u001b[43m,\u001b[49m\n\u001b[0;32m    616\u001b[0m \u001b[43m            \u001b[49m\u001b[43mcompletion_create_params\u001b[49m\u001b[38;5;241;43m.\u001b[39;49m\u001b[43mCompletionCreateParams\u001b[49m\u001b[43m,\u001b[49m\n\u001b[0;32m    617\u001b[0m \u001b[43m        \u001b[49m\u001b[43m)\u001b[49m\u001b[43m,\u001b[49m\n\u001b[0;32m    618\u001b[0m \u001b[43m        \u001b[49m\u001b[43moptions\u001b[49m\u001b[38;5;241;43m=\u001b[39;49m\u001b[43mmake_request_options\u001b[49m\u001b[43m(\u001b[49m\n\u001b[0;32m    619\u001b[0m \u001b[43m            \u001b[49m\u001b[43mextra_headers\u001b[49m\u001b[38;5;241;43m=\u001b[39;49m\u001b[43mextra_headers\u001b[49m\u001b[43m,\u001b[49m\u001b[43m \u001b[49m\u001b[43mextra_query\u001b[49m\u001b[38;5;241;43m=\u001b[39;49m\u001b[43mextra_query\u001b[49m\u001b[43m,\u001b[49m\u001b[43m \u001b[49m\u001b[43mextra_body\u001b[49m\u001b[38;5;241;43m=\u001b[39;49m\u001b[43mextra_body\u001b[49m\u001b[43m,\u001b[49m\u001b[43m \u001b[49m\u001b[43mtimeout\u001b[49m\u001b[38;5;241;43m=\u001b[39;49m\u001b[43mtimeout\u001b[49m\n\u001b[0;32m    620\u001b[0m \u001b[43m        \u001b[49m\u001b[43m)\u001b[49m\u001b[43m,\u001b[49m\n\u001b[0;32m    621\u001b[0m \u001b[43m        \u001b[49m\u001b[43mcast_to\u001b[49m\u001b[38;5;241;43m=\u001b[39;49m\u001b[43mChatCompletion\u001b[49m\u001b[43m,\u001b[49m\n\u001b[0;32m    622\u001b[0m \u001b[43m        \u001b[49m\u001b[43mstream\u001b[49m\u001b[38;5;241;43m=\u001b[39;49m\u001b[43mstream\u001b[49m\u001b[43m \u001b[49m\u001b[38;5;129;43;01mor\u001b[39;49;00m\u001b[43m \u001b[49m\u001b[38;5;28;43;01mFalse\u001b[39;49;00m\u001b[43m,\u001b[49m\n\u001b[0;32m    623\u001b[0m \u001b[43m        \u001b[49m\u001b[43mstream_cls\u001b[49m\u001b[38;5;241;43m=\u001b[39;49m\u001b[43mStream\u001b[49m\u001b[43m[\u001b[49m\u001b[43mChatCompletionChunk\u001b[49m\u001b[43m]\u001b[49m\u001b[43m,\u001b[49m\n\u001b[0;32m    624\u001b[0m \u001b[43m    \u001b[49m\u001b[43m)\u001b[49m\n",
      "File \u001b[1;32md:\\학교\\기타\\학회\\HateSlopStudy\\session-3\\yanolja-review\\.venv\\Lib\\site-packages\\openai\\_base_client.py:1240\u001b[0m, in \u001b[0;36mSyncAPIClient.post\u001b[1;34m(self, path, cast_to, body, options, files, stream, stream_cls)\u001b[0m\n\u001b[0;32m   1226\u001b[0m \u001b[38;5;28;01mdef\u001b[39;00m \u001b[38;5;21mpost\u001b[39m(\n\u001b[0;32m   1227\u001b[0m     \u001b[38;5;28mself\u001b[39m,\n\u001b[0;32m   1228\u001b[0m     path: \u001b[38;5;28mstr\u001b[39m,\n\u001b[1;32m   (...)\u001b[0m\n\u001b[0;32m   1235\u001b[0m     stream_cls: \u001b[38;5;28mtype\u001b[39m[_StreamT] \u001b[38;5;241m|\u001b[39m \u001b[38;5;28;01mNone\u001b[39;00m \u001b[38;5;241m=\u001b[39m \u001b[38;5;28;01mNone\u001b[39;00m,\n\u001b[0;32m   1236\u001b[0m ) \u001b[38;5;241m-\u001b[39m\u001b[38;5;241m>\u001b[39m ResponseT \u001b[38;5;241m|\u001b[39m _StreamT:\n\u001b[0;32m   1237\u001b[0m     opts \u001b[38;5;241m=\u001b[39m FinalRequestOptions\u001b[38;5;241m.\u001b[39mconstruct(\n\u001b[0;32m   1238\u001b[0m         method\u001b[38;5;241m=\u001b[39m\u001b[38;5;124m\"\u001b[39m\u001b[38;5;124mpost\u001b[39m\u001b[38;5;124m\"\u001b[39m, url\u001b[38;5;241m=\u001b[39mpath, json_data\u001b[38;5;241m=\u001b[39mbody, files\u001b[38;5;241m=\u001b[39mto_httpx_files(files), \u001b[38;5;241m*\u001b[39m\u001b[38;5;241m*\u001b[39moptions\n\u001b[0;32m   1239\u001b[0m     )\n\u001b[1;32m-> 1240\u001b[0m     \u001b[38;5;28;01mreturn\u001b[39;00m cast(ResponseT, \u001b[38;5;28;43mself\u001b[39;49m\u001b[38;5;241;43m.\u001b[39;49m\u001b[43mrequest\u001b[49m\u001b[43m(\u001b[49m\u001b[43mcast_to\u001b[49m\u001b[43m,\u001b[49m\u001b[43m \u001b[49m\u001b[43mopts\u001b[49m\u001b[43m,\u001b[49m\u001b[43m \u001b[49m\u001b[43mstream\u001b[49m\u001b[38;5;241;43m=\u001b[39;49m\u001b[43mstream\u001b[49m\u001b[43m,\u001b[49m\u001b[43m \u001b[49m\u001b[43mstream_cls\u001b[49m\u001b[38;5;241;43m=\u001b[39;49m\u001b[43mstream_cls\u001b[49m\u001b[43m)\u001b[49m)\n",
      "File \u001b[1;32md:\\학교\\기타\\학회\\HateSlopStudy\\session-3\\yanolja-review\\.venv\\Lib\\site-packages\\openai\\_base_client.py:921\u001b[0m, in \u001b[0;36mSyncAPIClient.request\u001b[1;34m(self, cast_to, options, remaining_retries, stream, stream_cls)\u001b[0m\n\u001b[0;32m    912\u001b[0m \u001b[38;5;28;01mdef\u001b[39;00m \u001b[38;5;21mrequest\u001b[39m(\n\u001b[0;32m    913\u001b[0m     \u001b[38;5;28mself\u001b[39m,\n\u001b[0;32m    914\u001b[0m     cast_to: Type[ResponseT],\n\u001b[1;32m   (...)\u001b[0m\n\u001b[0;32m    919\u001b[0m     stream_cls: \u001b[38;5;28mtype\u001b[39m[_StreamT] \u001b[38;5;241m|\u001b[39m \u001b[38;5;28;01mNone\u001b[39;00m \u001b[38;5;241m=\u001b[39m \u001b[38;5;28;01mNone\u001b[39;00m,\n\u001b[0;32m    920\u001b[0m ) \u001b[38;5;241m-\u001b[39m\u001b[38;5;241m>\u001b[39m ResponseT \u001b[38;5;241m|\u001b[39m _StreamT:\n\u001b[1;32m--> 921\u001b[0m     \u001b[38;5;28;01mreturn\u001b[39;00m \u001b[38;5;28;43mself\u001b[39;49m\u001b[38;5;241;43m.\u001b[39;49m\u001b[43m_request\u001b[49m\u001b[43m(\u001b[49m\n\u001b[0;32m    922\u001b[0m \u001b[43m        \u001b[49m\u001b[43mcast_to\u001b[49m\u001b[38;5;241;43m=\u001b[39;49m\u001b[43mcast_to\u001b[49m\u001b[43m,\u001b[49m\n\u001b[0;32m    923\u001b[0m \u001b[43m        \u001b[49m\u001b[43moptions\u001b[49m\u001b[38;5;241;43m=\u001b[39;49m\u001b[43moptions\u001b[49m\u001b[43m,\u001b[49m\n\u001b[0;32m    924\u001b[0m \u001b[43m        \u001b[49m\u001b[43mstream\u001b[49m\u001b[38;5;241;43m=\u001b[39;49m\u001b[43mstream\u001b[49m\u001b[43m,\u001b[49m\n\u001b[0;32m    925\u001b[0m \u001b[43m        \u001b[49m\u001b[43mstream_cls\u001b[49m\u001b[38;5;241;43m=\u001b[39;49m\u001b[43mstream_cls\u001b[49m\u001b[43m,\u001b[49m\n\u001b[0;32m    926\u001b[0m \u001b[43m        \u001b[49m\u001b[43mremaining_retries\u001b[49m\u001b[38;5;241;43m=\u001b[39;49m\u001b[43mremaining_retries\u001b[49m\u001b[43m,\u001b[49m\n\u001b[0;32m    927\u001b[0m \u001b[43m    \u001b[49m\u001b[43m)\u001b[49m\n",
      "File \u001b[1;32md:\\학교\\기타\\학회\\HateSlopStudy\\session-3\\yanolja-review\\.venv\\Lib\\site-packages\\openai\\_base_client.py:1005\u001b[0m, in \u001b[0;36mSyncAPIClient._request\u001b[1;34m(self, cast_to, options, remaining_retries, stream, stream_cls)\u001b[0m\n\u001b[0;32m   1003\u001b[0m \u001b[38;5;28;01mif\u001b[39;00m retries \u001b[38;5;241m>\u001b[39m \u001b[38;5;241m0\u001b[39m \u001b[38;5;129;01mand\u001b[39;00m \u001b[38;5;28mself\u001b[39m\u001b[38;5;241m.\u001b[39m_should_retry(err\u001b[38;5;241m.\u001b[39mresponse):\n\u001b[0;32m   1004\u001b[0m     err\u001b[38;5;241m.\u001b[39mresponse\u001b[38;5;241m.\u001b[39mclose()\n\u001b[1;32m-> 1005\u001b[0m     \u001b[38;5;28;01mreturn\u001b[39;00m \u001b[38;5;28;43mself\u001b[39;49m\u001b[38;5;241;43m.\u001b[39;49m\u001b[43m_retry_request\u001b[49m\u001b[43m(\u001b[49m\n\u001b[0;32m   1006\u001b[0m \u001b[43m        \u001b[49m\u001b[43moptions\u001b[49m\u001b[43m,\u001b[49m\n\u001b[0;32m   1007\u001b[0m \u001b[43m        \u001b[49m\u001b[43mcast_to\u001b[49m\u001b[43m,\u001b[49m\n\u001b[0;32m   1008\u001b[0m \u001b[43m        \u001b[49m\u001b[43mretries\u001b[49m\u001b[43m,\u001b[49m\n\u001b[0;32m   1009\u001b[0m \u001b[43m        \u001b[49m\u001b[43merr\u001b[49m\u001b[38;5;241;43m.\u001b[39;49m\u001b[43mresponse\u001b[49m\u001b[38;5;241;43m.\u001b[39;49m\u001b[43mheaders\u001b[49m\u001b[43m,\u001b[49m\n\u001b[0;32m   1010\u001b[0m \u001b[43m        \u001b[49m\u001b[43mstream\u001b[49m\u001b[38;5;241;43m=\u001b[39;49m\u001b[43mstream\u001b[49m\u001b[43m,\u001b[49m\n\u001b[0;32m   1011\u001b[0m \u001b[43m        \u001b[49m\u001b[43mstream_cls\u001b[49m\u001b[38;5;241;43m=\u001b[39;49m\u001b[43mstream_cls\u001b[49m\u001b[43m,\u001b[49m\n\u001b[0;32m   1012\u001b[0m \u001b[43m    \u001b[49m\u001b[43m)\u001b[49m\n\u001b[0;32m   1014\u001b[0m \u001b[38;5;66;03m# If the response is streamed then we need to explicitly read the response\u001b[39;00m\n\u001b[0;32m   1015\u001b[0m \u001b[38;5;66;03m# to completion before attempting to access the response text.\u001b[39;00m\n\u001b[0;32m   1016\u001b[0m \u001b[38;5;28;01mif\u001b[39;00m \u001b[38;5;129;01mnot\u001b[39;00m err\u001b[38;5;241m.\u001b[39mresponse\u001b[38;5;241m.\u001b[39mis_closed:\n",
      "File \u001b[1;32md:\\학교\\기타\\학회\\HateSlopStudy\\session-3\\yanolja-review\\.venv\\Lib\\site-packages\\openai\\_base_client.py:1053\u001b[0m, in \u001b[0;36mSyncAPIClient._retry_request\u001b[1;34m(self, options, cast_to, remaining_retries, response_headers, stream, stream_cls)\u001b[0m\n\u001b[0;32m   1049\u001b[0m \u001b[38;5;66;03m# In a synchronous context we are blocking the entire thread. Up to the library user to run the client in a\u001b[39;00m\n\u001b[0;32m   1050\u001b[0m \u001b[38;5;66;03m# different thread if necessary.\u001b[39;00m\n\u001b[0;32m   1051\u001b[0m time\u001b[38;5;241m.\u001b[39msleep(timeout)\n\u001b[1;32m-> 1053\u001b[0m \u001b[38;5;28;01mreturn\u001b[39;00m \u001b[38;5;28;43mself\u001b[39;49m\u001b[38;5;241;43m.\u001b[39;49m\u001b[43m_request\u001b[49m\u001b[43m(\u001b[49m\n\u001b[0;32m   1054\u001b[0m \u001b[43m    \u001b[49m\u001b[43moptions\u001b[49m\u001b[38;5;241;43m=\u001b[39;49m\u001b[43moptions\u001b[49m\u001b[43m,\u001b[49m\n\u001b[0;32m   1055\u001b[0m \u001b[43m    \u001b[49m\u001b[43mcast_to\u001b[49m\u001b[38;5;241;43m=\u001b[39;49m\u001b[43mcast_to\u001b[49m\u001b[43m,\u001b[49m\n\u001b[0;32m   1056\u001b[0m \u001b[43m    \u001b[49m\u001b[43mremaining_retries\u001b[49m\u001b[38;5;241;43m=\u001b[39;49m\u001b[43mremaining\u001b[49m\u001b[43m,\u001b[49m\n\u001b[0;32m   1057\u001b[0m \u001b[43m    \u001b[49m\u001b[43mstream\u001b[49m\u001b[38;5;241;43m=\u001b[39;49m\u001b[43mstream\u001b[49m\u001b[43m,\u001b[49m\n\u001b[0;32m   1058\u001b[0m \u001b[43m    \u001b[49m\u001b[43mstream_cls\u001b[49m\u001b[38;5;241;43m=\u001b[39;49m\u001b[43mstream_cls\u001b[49m\u001b[43m,\u001b[49m\n\u001b[0;32m   1059\u001b[0m \u001b[43m\u001b[49m\u001b[43m)\u001b[49m\n",
      "File \u001b[1;32md:\\학교\\기타\\학회\\HateSlopStudy\\session-3\\yanolja-review\\.venv\\Lib\\site-packages\\openai\\_base_client.py:1005\u001b[0m, in \u001b[0;36mSyncAPIClient._request\u001b[1;34m(self, cast_to, options, remaining_retries, stream, stream_cls)\u001b[0m\n\u001b[0;32m   1003\u001b[0m \u001b[38;5;28;01mif\u001b[39;00m retries \u001b[38;5;241m>\u001b[39m \u001b[38;5;241m0\u001b[39m \u001b[38;5;129;01mand\u001b[39;00m \u001b[38;5;28mself\u001b[39m\u001b[38;5;241m.\u001b[39m_should_retry(err\u001b[38;5;241m.\u001b[39mresponse):\n\u001b[0;32m   1004\u001b[0m     err\u001b[38;5;241m.\u001b[39mresponse\u001b[38;5;241m.\u001b[39mclose()\n\u001b[1;32m-> 1005\u001b[0m     \u001b[38;5;28;01mreturn\u001b[39;00m \u001b[38;5;28;43mself\u001b[39;49m\u001b[38;5;241;43m.\u001b[39;49m\u001b[43m_retry_request\u001b[49m\u001b[43m(\u001b[49m\n\u001b[0;32m   1006\u001b[0m \u001b[43m        \u001b[49m\u001b[43moptions\u001b[49m\u001b[43m,\u001b[49m\n\u001b[0;32m   1007\u001b[0m \u001b[43m        \u001b[49m\u001b[43mcast_to\u001b[49m\u001b[43m,\u001b[49m\n\u001b[0;32m   1008\u001b[0m \u001b[43m        \u001b[49m\u001b[43mretries\u001b[49m\u001b[43m,\u001b[49m\n\u001b[0;32m   1009\u001b[0m \u001b[43m        \u001b[49m\u001b[43merr\u001b[49m\u001b[38;5;241;43m.\u001b[39;49m\u001b[43mresponse\u001b[49m\u001b[38;5;241;43m.\u001b[39;49m\u001b[43mheaders\u001b[49m\u001b[43m,\u001b[49m\n\u001b[0;32m   1010\u001b[0m \u001b[43m        \u001b[49m\u001b[43mstream\u001b[49m\u001b[38;5;241;43m=\u001b[39;49m\u001b[43mstream\u001b[49m\u001b[43m,\u001b[49m\n\u001b[0;32m   1011\u001b[0m \u001b[43m        \u001b[49m\u001b[43mstream_cls\u001b[49m\u001b[38;5;241;43m=\u001b[39;49m\u001b[43mstream_cls\u001b[49m\u001b[43m,\u001b[49m\n\u001b[0;32m   1012\u001b[0m \u001b[43m    \u001b[49m\u001b[43m)\u001b[49m\n\u001b[0;32m   1014\u001b[0m \u001b[38;5;66;03m# If the response is streamed then we need to explicitly read the response\u001b[39;00m\n\u001b[0;32m   1015\u001b[0m \u001b[38;5;66;03m# to completion before attempting to access the response text.\u001b[39;00m\n\u001b[0;32m   1016\u001b[0m \u001b[38;5;28;01mif\u001b[39;00m \u001b[38;5;129;01mnot\u001b[39;00m err\u001b[38;5;241m.\u001b[39mresponse\u001b[38;5;241m.\u001b[39mis_closed:\n",
      "File \u001b[1;32md:\\학교\\기타\\학회\\HateSlopStudy\\session-3\\yanolja-review\\.venv\\Lib\\site-packages\\openai\\_base_client.py:1053\u001b[0m, in \u001b[0;36mSyncAPIClient._retry_request\u001b[1;34m(self, options, cast_to, remaining_retries, response_headers, stream, stream_cls)\u001b[0m\n\u001b[0;32m   1049\u001b[0m \u001b[38;5;66;03m# In a synchronous context we are blocking the entire thread. Up to the library user to run the client in a\u001b[39;00m\n\u001b[0;32m   1050\u001b[0m \u001b[38;5;66;03m# different thread if necessary.\u001b[39;00m\n\u001b[0;32m   1051\u001b[0m time\u001b[38;5;241m.\u001b[39msleep(timeout)\n\u001b[1;32m-> 1053\u001b[0m \u001b[38;5;28;01mreturn\u001b[39;00m \u001b[38;5;28;43mself\u001b[39;49m\u001b[38;5;241;43m.\u001b[39;49m\u001b[43m_request\u001b[49m\u001b[43m(\u001b[49m\n\u001b[0;32m   1054\u001b[0m \u001b[43m    \u001b[49m\u001b[43moptions\u001b[49m\u001b[38;5;241;43m=\u001b[39;49m\u001b[43moptions\u001b[49m\u001b[43m,\u001b[49m\n\u001b[0;32m   1055\u001b[0m \u001b[43m    \u001b[49m\u001b[43mcast_to\u001b[49m\u001b[38;5;241;43m=\u001b[39;49m\u001b[43mcast_to\u001b[49m\u001b[43m,\u001b[49m\n\u001b[0;32m   1056\u001b[0m \u001b[43m    \u001b[49m\u001b[43mremaining_retries\u001b[49m\u001b[38;5;241;43m=\u001b[39;49m\u001b[43mremaining\u001b[49m\u001b[43m,\u001b[49m\n\u001b[0;32m   1057\u001b[0m \u001b[43m    \u001b[49m\u001b[43mstream\u001b[49m\u001b[38;5;241;43m=\u001b[39;49m\u001b[43mstream\u001b[49m\u001b[43m,\u001b[49m\n\u001b[0;32m   1058\u001b[0m \u001b[43m    \u001b[49m\u001b[43mstream_cls\u001b[49m\u001b[38;5;241;43m=\u001b[39;49m\u001b[43mstream_cls\u001b[49m\u001b[43m,\u001b[49m\n\u001b[0;32m   1059\u001b[0m \u001b[43m\u001b[49m\u001b[43m)\u001b[49m\n",
      "File \u001b[1;32md:\\학교\\기타\\학회\\HateSlopStudy\\session-3\\yanolja-review\\.venv\\Lib\\site-packages\\openai\\_base_client.py:1020\u001b[0m, in \u001b[0;36mSyncAPIClient._request\u001b[1;34m(self, cast_to, options, remaining_retries, stream, stream_cls)\u001b[0m\n\u001b[0;32m   1017\u001b[0m         err\u001b[38;5;241m.\u001b[39mresponse\u001b[38;5;241m.\u001b[39mread()\n\u001b[0;32m   1019\u001b[0m     log\u001b[38;5;241m.\u001b[39mdebug(\u001b[38;5;124m\"\u001b[39m\u001b[38;5;124mRe-raising status error\u001b[39m\u001b[38;5;124m\"\u001b[39m)\n\u001b[1;32m-> 1020\u001b[0m     \u001b[38;5;28;01mraise\u001b[39;00m \u001b[38;5;28mself\u001b[39m\u001b[38;5;241m.\u001b[39m_make_status_error_from_response(err\u001b[38;5;241m.\u001b[39mresponse) \u001b[38;5;28;01mfrom\u001b[39;00m \u001b[38;5;28;01mNone\u001b[39;00m\n\u001b[0;32m   1022\u001b[0m \u001b[38;5;28;01mreturn\u001b[39;00m \u001b[38;5;28mself\u001b[39m\u001b[38;5;241m.\u001b[39m_process_response(\n\u001b[0;32m   1023\u001b[0m     cast_to\u001b[38;5;241m=\u001b[39mcast_to,\n\u001b[0;32m   1024\u001b[0m     options\u001b[38;5;241m=\u001b[39moptions,\n\u001b[1;32m   (...)\u001b[0m\n\u001b[0;32m   1027\u001b[0m     stream_cls\u001b[38;5;241m=\u001b[39mstream_cls,\n\u001b[0;32m   1028\u001b[0m )\n",
      "\u001b[1;31mRateLimitError\u001b[0m: Error code: 429 - {'error': {'message': 'You exceeded your current quota, please check your plan and billing details. For more information on this error, read the docs: https://platform.openai.com/docs/guides/error-codes/api-errors.', 'type': 'insufficient_quota', 'param': None, 'code': 'insufficient_quota'}}"
     ]
    }
   ],
   "source": [
    "reviews, _ = preprocess_reviews(path=\"review_신라스테이 해운대.json\")\n",
    "\n",
    "client = OpenAI(api_key=os.getenv('OPNEAI_API_KEY'))\n",
    "\n",
    "def summarize(reviews, prompt, temperature = 0.0, model = 'gpt-3.5-turbo-0125'):\n",
    "    prompt = prompt +'\\n\\n' +reviews\n",
    "\n",
    "    completion = client.chat.completions.create(\n",
    "        model = model,\n",
    "        messages = [{'role': 'user', 'content': prompt}],\n",
    "        temperature=temperature\n",
    "    )\n",
    "\n",
    "    return completion\n",
    "\n",
    "print(summarize(reviews, PROMPT_BASELINE).choices[0].message.content)"
   ]
  },
  {
   "cell_type": "markdown",
   "metadata": {},
   "source": [
    "# Zero Shot"
   ]
  },
  {
   "cell_type": "code",
   "execution_count": 41,
   "metadata": {},
   "outputs": [
    {
     "name": "stdout",
     "output_type": "stream",
     "text": [
      "Summary: ['신상호텔에서의 숙박이 깔끔하고 쾌적했으며, 루프탑 풀, 해수욕장 근접 위치, 타운오션뷰를 즐길 수 있었습니다. 조식 패키지는 다양하고 만족스러웠으며, 미니바 무료 제공과 친절한 서비스로 즐거운 시간을 보낼 수 있었습니다. 다음 방문을 고려하며 만족스러운 체험을 했다고 평가됩니다.해운대에 위치한 L7호텔은 서비스가 훌륭하며 깔끔한 신축 호텔로 손꼽히고 있습니다.조식도 좋았고, 수영장도 자유롭게 이용할 수 있어 편리한 숙박이었으며, 특히 돼지국밥이 사랑받았습니다.편안한 휴식과 만족한 경험으로 다시 방문 의사가 있는 호텔로 꼽혀집니다.']\n"
     ]
    }
   ],
   "source": [
    "prompt_zero_shot = f\"\"\"당신은 요약 전문가입니다. 사용자 숙소 리뷰들이 주어졌을 때 요약하는 것이 당신의 목표입니다.\n",
    "\n",
    "요약 결과는 다음 조건들을 충족해야 합니다:\n",
    "1. 모든 문장은 항상 존댓말로 끝나야 합니다.\n",
    "2. 숙소에 대해 소개하는 톤앤매너로 작성해주세요.\n",
    "  2-1. 좋은 예시\n",
    "    a) 전반적으로 좋은 숙소였고 방음도 괜찮았다는 평입니다.\n",
    "    b) 재방문 예정이라는 평들이 존재합니다.\n",
    "  2-2. 나쁜 예시\n",
    "    a) 좋은 숙소였고 방음도 괜찮았습니다.\n",
    "    b) 재방문 예정입니다.\n",
    "3. 요약 결과는 최소 2문장, 최대 5문장 사이로 작성해주세요.\n",
    "    \n",
    "아래 숙소 리뷰들에 대해 요약해주세요:\"\"\"\n",
    "\n",
    "summary_zero_shot = [summarize(reviews, prompt_zero_shot, temperature=1.0).choices[0].message.content]\n",
    "print(f\"Summary: {summary_zero_shot}\")\n",
    "\n",
    "#wins, losses, ties = pairwise_eval_batch(reviews, summaries, [summary_real_20241003 for _ in range(len(summaries))])\n",
    "#print(f'Wins: {wins}, Losses: {losses}, Ties: {ties}')"
   ]
  },
  {
   "cell_type": "markdown",
   "metadata": {},
   "source": [
    "# One Shot"
   ]
  },
  {
   "cell_type": "code",
   "execution_count": null,
   "metadata": {},
   "outputs": [],
   "source": [
    "reviews_1shot, _ = preprocess_reviews(path=\"review_신라스테이 해운대대.json\")\n",
    "summary_1shot = summarize(reviews_1shot, prompt_zero_shot, temperature = 0.0, model = 'gpt-4o-2024-05-13').choices[0].message.content"
   ]
  },
  {
   "cell_type": "code",
   "execution_count": null,
   "metadata": {},
   "outputs": [
    {
     "name": "stdout",
     "output_type": "stream",
     "text": [
      "Summary by One Shot Prompt: ['해운대에 위치한 신축 호텔로 전체적으로 깔끔하고 친절한 직원 응대가 돋보이며, 해운대 해수욕장과 가까운 위치가 장점으로 언급됩니다. 조식은 다양하고 맛있다는 호평이 많으며, 새 건물 특유의 냄새와 일부 시설 이용 제한이 아쉬운 부분으로 언급됩니다. 새로 오픈한 호텔이라는 점에서 재방문 의사가 높은 긍정적인 리뷰가 많습니다.']\n"
     ]
    }
   ],
   "source": [
    "prompt_one_shot = f\"\"\"\n",
    "\n",
    "다음은 리뷰들과 요약 예시입니다.\n",
    "예시 리뷰들:\n",
    "{reviews_1shot}\n",
    "예시 요약 결과:\n",
    "{summary_1shot}\n",
    "    \n",
    "아래 숙소 리뷰들에 대해 요약해주세요:\"\"\"\n",
    "summary_by_one_shot = [summarize(reviews, prompt_one_shot, temperature=1.0, model='gpt-3.5-turbo-0125').choices[0].message.content]\n",
    "print(f\"Summary by One Shot Prompt: {summary_by_one_shot}\")\n"
   ]
  },
  {
   "cell_type": "markdown",
   "metadata": {},
   "source": [
    "# Two Shot"
   ]
  },
  {
   "cell_type": "code",
   "execution_count": null,
   "metadata": {},
   "outputs": [
    {
     "name": "stdout",
     "output_type": "stream",
     "text": [
      "전반적으로 해운대에 위치한 신축 호텔로, 깔끔한 객실 상태와 친절한 직원 응대가 돋보인다는 평입니다. 해운대 해수욕장과 매우 가까워 위치가 좋다는 리뷰가 많으며, 조식의 다양성과 품질도 만족스럽다는 의견이 많습니다. 다만, 새 건물 특유의 냄새와 일부 시설 이용에 제한이 있다는 점이 아쉽다는 평도 있습니다. 전반적으로 재방문 의사가 있다는 긍정적인 리뷰가 많습니다.\n",
      "전반적으로 신축 호텔이라 시설이 깨끗하고 청결하다는 평이 많습니다. 해운대와 가까운 위치 덕분에 접근성이 좋다는 장점이 있습니다. 다만, 새 건물 특유의 냄새와 공사 소음이 불편하다는 의견이 있습니다. 조식은 맛있고 다양한 메뉴가 제공된다는 긍정적인 평가가 많습니다. 방음이 잘 되어 조용히 쉴 수 있다는 점도 좋은 평가를 받았습니다.\n"
     ]
    }
   ],
   "source": [
    "reviews_2shot_good, _ = preprocess_reviews(path='review_신라스테이 해운대.json')\n",
    "_, reviews_2shot_bad = preprocess_reviews(path=\"review_신라스테이 해운대.json\")\n",
    "summary_2shot_good = summarize(reviews_2shot_good, prompt_zero_shot, temperature=0.0, model='gpt-4o-2024-05-13').choices[0].message.content\n",
    "summary_2shot_bad = summarize(reviews_2shot_bad, prompt_zero_shot, temperature=0.0, model='gpt-4o-2024-05-13').choices[0].message.content"
   ]
  },
  {
   "cell_type": "code",
   "execution_count": null,
   "metadata": {},
   "outputs": [
    {
     "name": "stdout",
     "output_type": "stream",
     "text": [
      "Summary of All Reviews by Two Shot Prompt: ['해운대에 위치한 신축 호텔로서 깨끔하고 쾌적한 환경이 편한 휴식을 즐길 수 있었습니다. 해수욕장과 근접한 위치로 편리하고, 조식은 다양한 메뉴로 여러 사람들을 만족시켰습니다. 전반적으로 만족스러운 체험이었으며, 특히 도보 거리에 먹거리가 풍부한 부산에서 추천할만한 호텔입니다. 또한 역시 새로운 호텔이라 냄새가 발견되었다고 하지만, 시간이 지남에 따라 해결될 것으로 느껴지는 부분이 있었습니다. 객실 상태와 서비스, 편의시설에 대한 긍정적 평가가 많이 있습니다. 제공되는 패키지 상품에 대한 만족도도 높았습니다. 종합적으로, 재방문을 고려하게끔 만드는 좋은 경험이었습니다.']\n",
      "Summary of Good Reviews by Two Shot Prompt: ['긍정적인 리뷰로는 신상 호텔이라 깔끔하고 쾌적한 분위기에 루프탑 풀이 있는 것이 강조되었습니다. 또한 해운대에서 3분 거리에 있어 위치가 매우 좋다는 평이 있었으며, 조식이 다양하고 만족스러웠다고 언급되었습니다. 부정적인 리뷰로는 객실이 굉장히 깨끗하고 친절한 직원들이 많은 것으로 보고되었지만, 새 건물 특유의 냄새와 공사 소음이 불편하다는 언급이 있습니다. 또한, 다른 고객은 방음이 잘 되어 조용히 잠을 편하게 잘 수 있다는 긍정적인 의견을 전달했습니다.']\n",
      "Summary of Bad Reviews by Two Shot Prompt: ['숙소는 신축 호텔로 전체적으로 깨끗하며 객실 상태도 쾌적하다는 평을 받고 있습니다. 해운대 위치가 좋아 해수욕을 즐기기에 편리하다는 장점이 있지만, 건물 각도로 인해 뷰가 좋지 않은 평도 있습니다. 일부 리뷰에는 새집 냄새가 발견되어 아쉬워하는 내용이 포함되어 있습니다. 게스트들은 조식의 맛과 다양성을 칭찬하고 부대시설의 청결함도 언급하고 있습니다. 종합하면 재방문 의사를 나타내는 긍정적인 의견과 냄새로 인한 불편을 언급한 부정적인 의견이 나눠지고 있습니다.']\n"
     ]
    }
   ],
   "source": [
    "prompt_two_shot = f\"\"\"\n",
    "다음은 각각 긍정적인 리뷰들과 부정적인 리뷰의 요약 예시입니다.\n",
    "\n",
    "긍정 예시 리뷰들:\n",
    "{reviews_2shot_good}\n",
    "긍정 예시 요약 결과:\n",
    "{summary_2shot_good}\n",
    "부정 예시 리뷰들:\n",
    "{reviews_2shot_bad}\n",
    "부정 예시 요약 결과:\n",
    "{summary_2shot_bad}\n",
    "\n",
    "아래 숙소 리뷰들에 대해 요약해주세요:\"\"\"\n",
    "summary_by_two_shot_neutral = [summarize(reviews, prompt_two_shot, temperature=1.0, model='gpt-3.5-turbo-0125').choices[0].message.content]\n",
    "summary_by_two_shot_good = [summarize(good, prompt_two_shot, temperature=1.0, model='gpt-3.5-turbo-0125').choices[0].message.content]\n",
    "summary_by_two_shot_bad = [summarize(bad, prompt_two_shot, temperature=1.0, model='gpt-3.5-turbo-0125').choices[0].message.content]\n",
    "\n",
    "print(f\"Summary of All Reviews by Two Shot Prompt: {summary_by_two_shot_neutral}\")\n",
    "print(f\"Summary of Good Reviews by Two Shot Prompt: {summary_by_two_shot_good}\")\n",
    "print(f\"Summary of Bad Reviews by Two Shot Prompt: {summary_by_two_shot_bad}\")\n"
   ]
  },
  {
   "cell_type": "markdown",
   "metadata": {},
   "source": [
    "# Evaluation"
   ]
  },
  {
   "cell_type": "code",
   "execution_count": 23,
   "metadata": {},
   "outputs": [],
   "source": [
    "def pairwise_eval(reviews, answer_a, answer_b):\n",
    "    eval_prompt = f\"\"\"[System]\n",
    "Please act as an impartial judge and evaluate the quality of the Korean summaries provided by two\n",
    "AI assistants to the set of user reviews on accommodations displayed below. You should choose the assistant that\n",
    "follows the user’s instructions and answers the user’s question better. Your evaluation\n",
    "should consider factors such as the helpfulness, relevance, accuracy, depth, creativity,\n",
    "and level of detail of their responses. Begin your evaluation by comparing the two\n",
    "responses and provide a short explanation. Avoid any position biases and ensure that the\n",
    "order in which the responses were presented does not influence your decision. Do not allow\n",
    "the length of the responses to influence your evaluation. Do not favor certain names of\n",
    "the assistants. Be as objective as possible. After providing your explanation, output your\n",
    "final verdict by strictly following this format: \"[[A]]\" if assistant A is better, \"[[B]]\"\n",
    "if assistant B is better, and \"[[C]]\" for a tie.\n",
    "[User Reviews]\n",
    "{reviews}\n",
    "[The Start of Assistant A’s Answer]\n",
    "{answer_a}\n",
    "[The End of Assistant A’s Answer]\n",
    "[The Start of Assistant B’s Answer]\n",
    "{answer_b}\n",
    "[The End of Assistant B’s Answer]\"\"\"\n",
    "    \n",
    "    completion = client.chat.completions.create(\n",
    "        model='gpt-4o-2024-05-13',\n",
    "        messages=[{'role': 'user', 'content': eval_prompt}],\n",
    "        temperature=0.0\n",
    "    )\n",
    "\n",
    "    return completion"
   ]
  },
  {
   "cell_type": "code",
   "execution_count": 51,
   "metadata": {},
   "outputs": [],
   "source": [
    "from tqdm import tqdm\n",
    "\n",
    "def pairwise_eval_batch(reviews, answers_a, answers_b):\n",
    "    a_cnt, b_cnt, draw_cnt = 0,0,0\n",
    "    for i in tqdm(range(len(answers_a))):\n",
    "        completion = pairwise_eval(reviews, answers_a[i], answers_b[i])\n",
    "        verdict_text = completion.choices[0].message.content\n",
    "\n",
    "        if '[[A]]' in verdict_text:\n",
    "            a_cnt += 1\n",
    "        elif '[[B]]' in verdict_text:\n",
    "            b_cnt += 1        \n",
    "        elif '[[C]]' in verdict_text:\n",
    "            draw_cnt += 1\n",
    "        else:\n",
    "            print(\"Evaluation Error\")\n",
    "\n",
    "    return a_cnt, b_cnt, draw_cnt"
   ]
  },
  {
   "cell_type": "code",
   "execution_count": 52,
   "metadata": {},
   "outputs": [
    {
     "name": "stderr",
     "output_type": "stream",
     "text": [
      "100%|██████████| 5/5 [00:24<00:00,  4.88s/it]\n"
     ]
    },
    {
     "name": "stdout",
     "output_type": "stream",
     "text": [
      "['신상호텔은 깨끔하고 쾌적한 환경을 제공해 편안한 휴식을 즐길 수 있었습니다. 위치가 해운대 해수욕장에서 아주 가까워서 편리하며, 타운오션뷰로 창밖의 풍경도 즐길 수 있었습니다. 조식은 다양하고 만족스러웠으며, 오픈 기념으로 무료 미니바 제공하는 서비스도 매력적이었습니다. 다음에도 또 방문하고 싶은 호텔이었습니다.', '신상호텔은 깔끔하고 쾌적한 환경으로 편안한 휴식을 제공합니다. 루프탑 풀은 풀패키지상품을 구매해야 이용할 수 있지만, 해운대 해수욕장과의 가까운 거리가 위치를 더욱 좋게 만듭니다. 신상호텔은 조식 패키지 상품이 다양하고 만족스럽게 구성되어 있으며, 무료 미니바 제공도 하여 편안하고 알찬 여행을 즐길 수 있었습니다. 해운대 메인에 위치한 L7은 전체적으로 깔끔하고 고객응대가 친절하여 만족스러웠습니다. 또한 해운대 바다와 가까워서 휴양을 즐기기에 최적의 조건을 제공합니다. 해운대에 새로 생긴 L7은 새건물로서 깔끔한 서비스를 제공하며, 조식 퀄리티도 높게 평가받습니다. 위치나 부대시설 등 다양한 요소들이 만족스러운 투숙을 보장합니다. 신선함이 느껴지는 L7은 친절하고 청결한 직원들로 고객에게 만족스러운 휴식을 제공합니다. 해당 호텔은 재방문을 고려할 만한 수준의 서비스를 제공하며, 숙박 후 호텔서베이에 참여하는 등 고객 관리에까지 신경을 쓰고 있습니다. 위치와 서비스가 만족스러운 L7은 다시 방문할 의사가 있는 만큼, 편안하고 휴식에 적합한 숙소입니다.', '이번에 부산여행을 간 신상호텔은 깔끔하고 쾌적한 컨디션을 자랑하며 위치도 해운대 해수욕장에서 3분 거리에 위치하여 편리했습니다. 객실은 타운오션뷰로 해수욕장의 중앙이 보이며 조식 패키지 상품으로 다양한 음식을 즐길 수 있었고, 오픈 기념으로 무료 미니바 제공하여 즐거운 휴식을 즐길 수 있었습니다. 다음 방문도 기대됩니다. L7 부산해운대는 깔끔한 서비스와 쾌적한 시설로 새롭게 느껴졌고, 새로운 호텔 냄새를 제외하면 편안한 휴식을 제공했습니다. 위치와 조식, 서비스가 만족스러워 재방문이 기대됩니다.', '신상호텔은 깔끔하고 쾌적한 숙소로 위치가 해운대 해수욕장과 가까워서 편리합니다. 조식 패키지는 다양하고 만족스럽고, 돼지국밥도 특별하게 좋았습니다. 무료 미니바와 풀패키지까지 편의 시설이 다양하여 편하게 숙박을 즐길 수 있습니다. 부산을 방문한다면 L7 호텔은 명불허전한 선택이 될 것입니다.\\n\\nL7 호텔은 서비스가 훌륭하고 숙소는 청결하며 해운대 바다 전망이 좋습니다. 조식도 퀄리티가 높고 편의시설이 잘 갖춰져 있어 편리합니다. 이미 새로운 건물임에도 불구하고 냄새가 제약될 정도로 깔끔한 호텔입니다. 퇴실 시 고장난 엘리베이터가 있었지만 그 외에는 만족스러운 체류를 즐길 수 있었습니다. 이 호텔은 해운대 방문 시 다시 방문을 고려할 만한 호텔입니다.', '신상호텔은 깔끔하고 쾌적한 숙소로 거주자들이 편안하게 즐길 수 있었습니다. 위치가 해운대 해수욕장과 가까워서 매우 좋았으며, 타운오션뷰 객실은 해수욕장의 중앙을 보며 시원하게 휴양을 즐길 수 있는 곳이었습니다. 조식 또한 다양하고 만족스러웠으며, 오픈 기념으로 제공된 무료 미니바는 여행을 보다 풍성하게 즐길 수 있었습니다. 해운대에 위치한 L7은 서비스가 좋고, 새 건물이라 깔끔해서 다음 방문이 기대되는 호텔로 추천됩니다.'] Wins: 4, Loses: 1, Ties: 0\n"
     ]
    },
    {
     "name": "stderr",
     "output_type": "stream",
     "text": [
      "100%|██████████| 5/5 [00:16<00:00,  3.39s/it]\n"
     ]
    },
    {
     "name": "stdout",
     "output_type": "stream",
     "text": [
      "['부산 여행을 계획한 분들에게 권해드릴만한 신상 호텔로, 깔끔하고 쾌적한 환경으로 편안한 여행을 즐기실 수 있습니다. 위치는 해운대 해수욕장과 매우 가깝고, 조식 패키지는 다양한 음식으로 만족스러운 식사를 즐기실 수 있어요. 새로 오픈한 호텔로 방 상태나 직원 서비스가 친절하며, 전체적인 만족도가 높습니다. 차량을 이용하시는 분들을 위해 전기차 충전 시설도 구비되어 있습니다. 전반적으로 깊은 만족을 느끼고 싶으시다면 L7 호텔을 추천드립니다.', '해운대에 위치한 신축 호텔로, 깔끔하고 쾌적한 숙소 조건이 좋다는 평이 많이 보입니다. 해운대 해수욕장과 가깝고, 바다뷰가 멋지다는 이야기도 많습니다. 조식이 다양하고 맛있다는 평이 많으며, 직원분들도 친절하고 서비스가 좋다는 리뷰가 많이 있습니다. 다만 새 건물 특유의 냄새와 몇몇 제약 사항이 아쉽다는 의견도 있습니다. 전체적으로 재방문 의사가 있는 긍정적인 리뷰가 많습니다.', '해운대 소문난 신상호텔에서의 첫 여행은 깔끔하고 쾌적한 환경에서 편안하게 즐겼습니다. 루프탑 풀은 풀패키지로만 이용 가능하며, 해수욕장과 가까운 위치가 큰 장점입니다. 조식 패키지는 다양하고 만족스러우며, 오픈 기념으로 무료 미니바를 제공하여 편하게 즐길 수 있었습니다. 다음에도 꼭 재방문하고 싶은 호텔입니다.', '해운대에 위치한 신축 호텔들은 전체적으로 깨끔하고 쾌적한 분위기를 제공하며, 해수욕장과 가까운 위치에 있어 편리한 접근성을 자랑합니다. 조식 메뉴 다양성이 훌륭하고 질도 좋다는 평이 많으며, 직원들의 친절한 응대도 높이 평가되고 있습니다. 다만, 새 건물 냄새나 조금씩 발견되는 시설적인 미흡함이 아쉬워하는 소비자들도 있지만, 전체적으로 재방문의사가 높은 호텔로 평가받고 있습니다.', '해운대 신상호텔은 쾌적한 컨디션과 깔끔한 숙소로 급하게 부산여행을 즐기시는 분들에게 좋은 선택지입니다. 위치가 해운대 해수욕장과 매우 가깝고 조식도 다양하고 맛있다고 하셨어요. 다만, 몇몇 손님들은 새 건물 특유의 냄새와 일부 시설 이용 제한이 아쉬운 부분이라고 언급했습니다. 그럼에도 불구하고, 전체적인 만족도가 높아 재방문 의사가 있는 편입니다.'] Wins: 2, Loses: 1, Ties: 2\n"
     ]
    },
    {
     "name": "stderr",
     "output_type": "stream",
     "text": [
      "100%|██████████| 5/5 [00:20<00:00,  4.17s/it]"
     ]
    },
    {
     "name": "stdout",
     "output_type": "stream",
     "text": [
      "['신상 호텔로 깔끔하고 쾌적한 컨디션의 편안한 휴식을 즐길 수 있는 숙소입니다. 위치가 해운대 해수욕장에서 바로 뒤로, 록우트 패키지로만 이용 가능한 루프탑 풀 또한 매력적입니다. 다양하고 맛있는 조식과 섬세한 고객응대로 모두 만족도가 높은 객실입니다. 최근 오픈한 호텔로 인테리어와 시설이 깨끗하며 친절한 직원들이 즐겁고 만족스로운 휴가를 제공합니다. 리뷰 전반적으로 긍정적인 평가가 많습니다.', '요약 결과:\\n신축 호텔인 L7 해운대는 깔끔하고 쾌적한 객실과 편리한 위치로 호평을 받고 있습니다. 해운대 해수욕장과 가까운 거리에 있어 위치가 매우 좋으며, 조식 또한 다양하고 맛있다는 평이 많습니다. 그러나 새 건물 특유의 냄새와 일부 공사 소음이 불편하다는 의견도 있습니다. 전반적으로 청결하고 친절한 서비스를 제공하지만 개선이 필요한 부분도 있다는 평이 있습니다.다양한 시설과 서비스를 즐기기에 적합한 숙소로 손님들은 전반적으로 만족하며, 재방문할 의사가 있는 평이 많습니다.', '전체적으로 신축 호텔로 위치가 좋고 서비스가 친절하다는 긍정적인 평이 많았습니다. 룸 상태가 깨끗하고 부대시설도 편리하다는 언급이 있습니다. 다만 새 건물 냄새와 일부 공사소음이 불편하다는 점이 언급되었습니다. 조식의 다양성과 맛이 좋다는 긍정적인 리뷰가 있으며, 방음이 잘 되어 조용히 휴식을 취할 수 있다는 평도 있습니다. 새 건물이라 시설이 깨끗하고 청결한 편이라는 긍정적인 평이 대부분입니다.', '요약:\\n신축 호텔로 위치가 해운대에 이용편리한 편이었다. 숙소 상태는 깨끗하며 직원들의 친절한 응대도 좋았다. 조식의 다양한 메뉴와 품질이 만족스러웠으며, 조식을 제공하는 곳의 뷰는 특별하지 않았지만 만족스러웠다. 다만, 새 건물의 특유의 냄새와 일부 소음이 불편할 수 있다는 리뷰도 존재했다. 업그레이드를 통한 좋은 객실 룸 조성과 조식의 만족도가 높게 평가되었다. 종합적으로, 재방문 의사가 있는 긍정적 리뷰가 많이 있었다.', '신축 호텔로서 전반적으로 깔끔하고 쾌적한 숙소라는 평이 많이 있습니다. 위치가 해운대에 가깝고 조식 퀄리티 또한 좋아서 만족스러운 투숙 경험을 가진 손님들이 많이 계셨습니다. 다만, 새 건물 특유의 냄새와 공사 소음 등 몇몇 불편한 점이 언급되었습니다. 하지만 전반적으로 숙소의 청결함과 친절한 서비스에 대한 긍정적인 평가가 많이 있었습니다.'] Wins: 2, Loses: 3, Ties: 0\n"
     ]
    },
    {
     "name": "stderr",
     "output_type": "stream",
     "text": [
      "\n"
     ]
    }
   ],
   "source": [
    "eval_count = 5\n",
    "summaries_zero_shot = [summarize(reviews, prompt_zero_shot, temperature=1.0).choices[0].message.content for _ in range(eval_count)]\n",
    "summaries_one_shot = [summarize(reviews, prompt_one_shot, temperature=1.0).choices[0].message.content for _ in range(eval_count)]\n",
    "summaries_two_shot = [summarize(reviews, prompt_two_shot, temperature=1.0).choices[0].message.content for _ in range(eval_count)]\n",
    "\n",
    "for summaries_baseline in [summaries_zero_shot, summaries_one_shot, summaries_two_shot]:\n",
    "    wins, loses, ties = pairwise_eval_batch(reviews, summaries_baseline, [summary_1shot]*eval_count)\n",
    "    print(f\"{summaries_baseline} Wins: {wins}, Loses: {loses}, Ties: {ties}\")"
   ]
  }
 ],
 "metadata": {
  "kernelspec": {
   "display_name": ".venv",
   "language": "python",
   "name": "python3"
  },
  "language_info": {
   "codemirror_mode": {
    "name": "ipython",
    "version": 3
   },
   "file_extension": ".py",
   "mimetype": "text/x-python",
   "name": "python",
   "nbconvert_exporter": "python",
   "pygments_lexer": "ipython3",
   "version": "3.11.9"
  }
 },
 "nbformat": 4,
 "nbformat_minor": 2
}
